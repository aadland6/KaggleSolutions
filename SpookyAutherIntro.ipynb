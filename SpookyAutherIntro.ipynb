{
 "cells": [
  {
   "cell_type": "code",
   "execution_count": 1,
   "metadata": {
    "collapsed": true
   },
   "outputs": [],
   "source": [
    "import pandas as pd \n",
    "from sklearn.feature_extraction.text import CountVectorizer\n",
    "from sklearn.naive_bayes import MultinomialNB\n",
    "from sklearn.pipeline import Pipeline\n",
    "from sklearn.feature_extraction.text import TfidfVectorizer\n",
    "from sklearn.model_selection import GridSearchCV\n",
    "from sklearn.linear_model import LogisticRegression\n",
    "from sklearn.feature_selection import RFECV\n",
    "from sklearn.model_selection import cross_val_score\n",
    "from sklearn.base import TransformerMixin"
   ]
  },
  {
   "cell_type": "code",
   "execution_count": 2,
   "metadata": {},
   "outputs": [
    {
     "data": {
      "text/html": [
       "<div>\n",
       "<style>\n",
       "    .dataframe thead tr:only-child th {\n",
       "        text-align: right;\n",
       "    }\n",
       "\n",
       "    .dataframe thead th {\n",
       "        text-align: left;\n",
       "    }\n",
       "\n",
       "    .dataframe tbody tr th {\n",
       "        vertical-align: top;\n",
       "    }\n",
       "</style>\n",
       "<table border=\"1\" class=\"dataframe\">\n",
       "  <thead>\n",
       "    <tr style=\"text-align: right;\">\n",
       "      <th></th>\n",
       "      <th>id</th>\n",
       "      <th>text</th>\n",
       "      <th>author</th>\n",
       "    </tr>\n",
       "  </thead>\n",
       "  <tbody>\n",
       "    <tr>\n",
       "      <th>0</th>\n",
       "      <td>id26305</td>\n",
       "      <td>This process, however, afforded me no means of...</td>\n",
       "      <td>EAP</td>\n",
       "    </tr>\n",
       "    <tr>\n",
       "      <th>1</th>\n",
       "      <td>id17569</td>\n",
       "      <td>It never once occurred to me that the fumbling...</td>\n",
       "      <td>HPL</td>\n",
       "    </tr>\n",
       "    <tr>\n",
       "      <th>2</th>\n",
       "      <td>id11008</td>\n",
       "      <td>In his left hand was a gold snuff box, from wh...</td>\n",
       "      <td>EAP</td>\n",
       "    </tr>\n",
       "    <tr>\n",
       "      <th>3</th>\n",
       "      <td>id27763</td>\n",
       "      <td>How lovely is spring As we looked from Windsor...</td>\n",
       "      <td>MWS</td>\n",
       "    </tr>\n",
       "    <tr>\n",
       "      <th>4</th>\n",
       "      <td>id12958</td>\n",
       "      <td>Finding nothing else, not even gold, the Super...</td>\n",
       "      <td>HPL</td>\n",
       "    </tr>\n",
       "  </tbody>\n",
       "</table>\n",
       "</div>"
      ],
      "text/plain": [
       "        id                                               text author\n",
       "0  id26305  This process, however, afforded me no means of...    EAP\n",
       "1  id17569  It never once occurred to me that the fumbling...    HPL\n",
       "2  id11008  In his left hand was a gold snuff box, from wh...    EAP\n",
       "3  id27763  How lovely is spring As we looked from Windsor...    MWS\n",
       "4  id12958  Finding nothing else, not even gold, the Super...    HPL"
      ]
     },
     "execution_count": 2,
     "metadata": {},
     "output_type": "execute_result"
    }
   ],
   "source": [
    "raw_data = pd.read_csv(\"train.csv\")\n",
    "raw_data.head()"
   ]
  },
  {
   "cell_type": "markdown",
   "metadata": {},
   "source": [
    "Before modeling the content of each passage, we may be able to build a model that draws on the metafeatures of the documents (e.g., length, the part of speech, the sentiment of the document, etc.) For this part of the analysis, I am going to use two NLP packages: Spacy and Textblob. \n",
    "\n",
    "Spacy is feature rich and offers a number of important things like part of speech tagging, stopwords detection, and document tokenization. \n",
    "\n",
    "Textblob is an earlier package that has fewer dependiences and an easier installation but fewer features. I am using textblob for the sentiment analysis. \n",
    "\n",
    "The third package for text analysis is the Natural Language Tool Kit library (NLTK). This comes packaged with Anaconda it's full of features but it's older and can be clunky. "
   ]
  },
  {
   "cell_type": "code",
   "execution_count": 3,
   "metadata": {
    "collapsed": true
   },
   "outputs": [],
   "source": [
    "# this is the core library from spacy \n",
    "# you should install it with pip install spacy\n",
    "# then pip install https://github.com/explosion/spacy-models/releases/download/en_core_web_md-1.2.0/en_core_web_md-1.2.0.tar.gz\n",
    "import en_core_web_sm\n",
    "from textblob import TextBlob\n",
    "nlp = en_core_web_sm.load()"
   ]
  },
  {
   "cell_type": "code",
   "execution_count": 4,
   "metadata": {
    "collapsed": true
   },
   "outputs": [],
   "source": [
    "# This function is pretty ugly but only requires one loop to execute \n",
    "def metafeatures(document):\n",
    "    \"\"\"Generates the metafeatures of a document\n",
    "    \"\"\"\n",
    "    doc = nlp(document)\n",
    "    # keeps track of the document length, this can be accomplished in a number of ways \n",
    "    length = 0\n",
    "    len_list = []\n",
    "    # list to keep track of the actual tokens \n",
    "    token_list = []\n",
    "    avg_length = 0\n",
    "    # how many long words are there \n",
    "    ratio_4_plus = 0\n",
    "    # how many stopwords are there \n",
    "    ratio_stops = 0\n",
    "    # how many nouns, verbs, adjectives are there\n",
    "    ratio_nouns = 0\n",
    "    ratio_verbs = 0\n",
    "    ratio_adjectives = 0\n",
    "    # how much of the data is punctuation \n",
    "    ratio_punctuation = 0\n",
    "    # keep track of words that are lower case and words that are title case (e.g., Title Case)\n",
    "    ratio_lower = 0\n",
    "    ratio_title = 0\n",
    "    for token in doc:\n",
    "        length += 1\n",
    "        len_list.append(len(token))\n",
    "        token_list.append(token.text.lower())\n",
    "        if token.is_stop:\n",
    "            ratio_stops += 1\n",
    "        if len(token.text) >= 4:\n",
    "            ratio_4_plus += 1\n",
    "        if token.pos_ == \"NOUN\":\n",
    "            ratio_nouns +=1\n",
    "        if token.pos_ == \"VERB\":\n",
    "            ratio_verbs += 1\n",
    "        if token.pos_ == \"ADJ\":\n",
    "            ratio_adjectives += 1\n",
    "        if token.is_punct:\n",
    "            ratio_punctuation += 1\n",
    "        if token.is_title:\n",
    "            ratio_title += 1\n",
    "        if token.is_lower:\n",
    "            ratio_lower += 1\n",
    "    unique_ratio = len(set(token_list)) / length\n",
    "    out_tuple = (ratio_stops, ratio_4_plus, ratio_nouns,\n",
    "                 ratio_verbs, ratio_adjectives, ratio_punctuation, ratio_title,\n",
    "                 ratio_lower)\n",
    "    avg_length = sum(len_list) / length\n",
    "    num_characters = len(document)\n",
    "    num_unique_characters = len(set(document)) \n",
    "    # Originally, I was building averages here found that leaving the raw counts were more informative\n",
    "    averages = [x for x in out_tuple]\n",
    "    averages.append(avg_length)\n",
    "    averages.append(unique_ratio)\n",
    "    averages.append(num_characters)\n",
    "    averages.append(num_unique_characters)\n",
    "    averages.append(length)\n",
    "    # get sentiment using textblob \n",
    "    data_blob = TextBlob(document)\n",
    "    polarity, subjectivity = data_blob.sentiment[0], data_blob.sentiment[1]\n",
    "    averages.extend([polarity, subjectivity])\n",
    "    return averages\n",
    "\n",
    "columns = [\"Stopwords\", \"LongWords\", \"Nouns\", \"Verbs\", \"Adjectives\",\n",
    "          \"Punctuation\", \"TitleCase\", \"Lowercase\", \"AvgLength\",\"UniqueRatio\", \"NumberOfCharacters\",\n",
    "          \"NumberUniqueCharacters\", \"DocumentLength\", \"Polarity\", \"Subjectivity\"]"
   ]
  },
  {
   "cell_type": "code",
   "execution_count": 5,
   "metadata": {},
   "outputs": [
    {
     "data": {
      "text/html": [
       "<div>\n",
       "<style>\n",
       "    .dataframe thead tr:only-child th {\n",
       "        text-align: right;\n",
       "    }\n",
       "\n",
       "    .dataframe thead th {\n",
       "        text-align: left;\n",
       "    }\n",
       "\n",
       "    .dataframe tbody tr th {\n",
       "        vertical-align: top;\n",
       "    }\n",
       "</style>\n",
       "<table border=\"1\" class=\"dataframe\">\n",
       "  <thead>\n",
       "    <tr style=\"text-align: right;\">\n",
       "      <th></th>\n",
       "      <th>Stopwords</th>\n",
       "      <th>LongWords</th>\n",
       "      <th>Nouns</th>\n",
       "      <th>Verbs</th>\n",
       "      <th>Adjectives</th>\n",
       "      <th>Punctuation</th>\n",
       "      <th>TitleCase</th>\n",
       "      <th>Lowercase</th>\n",
       "      <th>AvgLength</th>\n",
       "      <th>UniqueRatio</th>\n",
       "      <th>NumberOfCharacters</th>\n",
       "      <th>NumberUniqueCharacters</th>\n",
       "      <th>DocumentLength</th>\n",
       "      <th>Polarity</th>\n",
       "      <th>Subjectivity</th>\n",
       "      <th>author</th>\n",
       "    </tr>\n",
       "  </thead>\n",
       "  <tbody>\n",
       "    <tr>\n",
       "      <th>0</th>\n",
       "      <td>26</td>\n",
       "      <td>22</td>\n",
       "      <td>9</td>\n",
       "      <td>8</td>\n",
       "      <td>4</td>\n",
       "      <td>7</td>\n",
       "      <td>3</td>\n",
       "      <td>38</td>\n",
       "      <td>3.979167</td>\n",
       "      <td>0.791667</td>\n",
       "      <td>231</td>\n",
       "      <td>28</td>\n",
       "      <td>48</td>\n",
       "      <td>0.625000</td>\n",
       "      <td>0.625000</td>\n",
       "      <td>EAP</td>\n",
       "    </tr>\n",
       "    <tr>\n",
       "      <th>1</th>\n",
       "      <td>10</td>\n",
       "      <td>8</td>\n",
       "      <td>2</td>\n",
       "      <td>3</td>\n",
       "      <td>1</td>\n",
       "      <td>1</td>\n",
       "      <td>1</td>\n",
       "      <td>13</td>\n",
       "      <td>3.866667</td>\n",
       "      <td>1.000000</td>\n",
       "      <td>71</td>\n",
       "      <td>22</td>\n",
       "      <td>15</td>\n",
       "      <td>-0.500000</td>\n",
       "      <td>0.500000</td>\n",
       "      <td>HPL</td>\n",
       "    </tr>\n",
       "    <tr>\n",
       "      <th>2</th>\n",
       "      <td>17</td>\n",
       "      <td>21</td>\n",
       "      <td>11</td>\n",
       "      <td>4</td>\n",
       "      <td>6</td>\n",
       "      <td>5</td>\n",
       "      <td>1</td>\n",
       "      <td>35</td>\n",
       "      <td>4.024390</td>\n",
       "      <td>0.829268</td>\n",
       "      <td>200</td>\n",
       "      <td>26</td>\n",
       "      <td>41</td>\n",
       "      <td>0.107407</td>\n",
       "      <td>0.681481</td>\n",
       "      <td>EAP</td>\n",
       "    </tr>\n",
       "    <tr>\n",
       "      <th>3</th>\n",
       "      <td>14</td>\n",
       "      <td>22</td>\n",
       "      <td>7</td>\n",
       "      <td>5</td>\n",
       "      <td>6</td>\n",
       "      <td>4</td>\n",
       "      <td>4</td>\n",
       "      <td>30</td>\n",
       "      <td>4.552632</td>\n",
       "      <td>0.868421</td>\n",
       "      <td>206</td>\n",
       "      <td>30</td>\n",
       "      <td>38</td>\n",
       "      <td>0.500000</td>\n",
       "      <td>0.662500</td>\n",
       "      <td>MWS</td>\n",
       "    </tr>\n",
       "    <tr>\n",
       "      <th>4</th>\n",
       "      <td>14</td>\n",
       "      <td>17</td>\n",
       "      <td>6</td>\n",
       "      <td>5</td>\n",
       "      <td>4</td>\n",
       "      <td>4</td>\n",
       "      <td>2</td>\n",
       "      <td>25</td>\n",
       "      <td>4.774194</td>\n",
       "      <td>0.903226</td>\n",
       "      <td>174</td>\n",
       "      <td>27</td>\n",
       "      <td>31</td>\n",
       "      <td>0.200000</td>\n",
       "      <td>0.512500</td>\n",
       "      <td>HPL</td>\n",
       "    </tr>\n",
       "  </tbody>\n",
       "</table>\n",
       "</div>"
      ],
      "text/plain": [
       "   Stopwords  LongWords  Nouns  Verbs  Adjectives  Punctuation  TitleCase  \\\n",
       "0         26         22      9      8           4            7          3   \n",
       "1         10          8      2      3           1            1          1   \n",
       "2         17         21     11      4           6            5          1   \n",
       "3         14         22      7      5           6            4          4   \n",
       "4         14         17      6      5           4            4          2   \n",
       "\n",
       "   Lowercase  AvgLength  UniqueRatio  NumberOfCharacters  \\\n",
       "0         38   3.979167     0.791667                 231   \n",
       "1         13   3.866667     1.000000                  71   \n",
       "2         35   4.024390     0.829268                 200   \n",
       "3         30   4.552632     0.868421                 206   \n",
       "4         25   4.774194     0.903226                 174   \n",
       "\n",
       "   NumberUniqueCharacters  DocumentLength  Polarity  Subjectivity author  \n",
       "0                      28              48  0.625000      0.625000    EAP  \n",
       "1                      22              15 -0.500000      0.500000    HPL  \n",
       "2                      26              41  0.107407      0.681481    EAP  \n",
       "3                      30              38  0.500000      0.662500    MWS  \n",
       "4                      27              31  0.200000      0.512500    HPL  "
      ]
     },
     "execution_count": 5,
     "metadata": {},
     "output_type": "execute_result"
    }
   ],
   "source": [
    "metafeatures_data = [metafeatures(x) for x in raw_data[\"text\"]]\n",
    "metafeatures_df = pd.DataFrame(metafeatures_data, columns=columns)\n",
    "metafeatures_df[\"author\"] = raw_data[\"author\"]\n",
    "metafeatures_df.head()"
   ]
  },
  {
   "cell_type": "code",
   "execution_count": 76,
   "metadata": {
    "scrolled": true
   },
   "outputs": [
    {
     "name": "stdout",
     "output_type": "stream",
     "text": [
      "Stopwords\n"
     ]
    },
    {
     "data": {
      "image/png": "[encoded data removed]",
      "text/plain": [
       "<matplotlib.figure.Figure at 0x1323cec4b38>"
      ]
     },
     "metadata": {},
     "output_type": "display_data"
    },
    {
     "name": "stdout",
     "output_type": "stream",
     "text": [
      "LongWords\n"
     ]
    },
    {
     "data": {
      "image/png": "[encoded data removed]",
      "text/plain": [
       "<matplotlib.figure.Figure at 0x1323cec4b38>"
      ]
     },
     "metadata": {},
     "output_type": "display_data"
    },
    {
     "name": "stdout",
     "output_type": "stream",
     "text": [
      "Nouns\n"
     ]
    },
    {
     "data": {
      "image/png": "[encoded data removed]",
      "text/plain": [
       "<matplotlib.figure.Figure at 0x1323cec4b38>"
      ]
     },
     "metadata": {},
     "output_type": "display_data"
    },
    {
     "name": "stdout",
     "output_type": "stream",
     "text": [
      "Verbs\n"
     ]
    },
    {
     "data": {
      "image/png": "[encoded data removed]",
      "text/plain": [
       "<matplotlib.figure.Figure at 0x1323cec4b38>"
      ]
     },
     "metadata": {},
     "output_type": "display_data"
    },
    {
     "name": "stdout",
     "output_type": "stream",
     "text": [
      "Adjectives\n"
     ]
    },
    {
     "data": {
      "image/png": "[encoded data removed]",
      "text/plain": [
       "<matplotlib.figure.Figure at 0x1323cec4b38>"
      ]
     },
     "metadata": {},
     "output_type": "display_data"
    },
    {
     "name": "stdout",
     "output_type": "stream",
     "text": [
      "Punctuation\n"
     ]
    },
    {
     "data": {
      "image/png": "[encoded data removed]",
      "text/plain": [
       "<matplotlib.figure.Figure at 0x1323cec4b38>"
      ]
     },
     "metadata": {},
     "output_type": "display_data"
    },
    {
     "name": "stdout",
     "output_type": "stream",
     "text": [
      "TitleCase\n"
     ]
    },
    {
     "data": {
      "image/png": "[encoded data removed]",
      "text/plain": [
       "<matplotlib.figure.Figure at 0x1323cec4b38>"
      ]
     },
     "metadata": {},
     "output_type": "display_data"
    },
    {
     "name": "stdout",
     "output_type": "stream",
     "text": [
      "Lowercase\n"
     ]
    },
    {
     "data": {
      "image/png": "[encoded data removed]",
      "text/plain": [
       "<matplotlib.figure.Figure at 0x1323cec4b38>"
      ]
     },
     "metadata": {},
     "output_type": "display_data"
    },
    {
     "name": "stdout",
     "output_type": "stream",
     "text": [
      "AvgLength\n"
     ]
    },
    {
     "data": {
      "image/png": "[encoded data removed]",
      "text/plain": [
       "<matplotlib.figure.Figure at 0x1323cec4b38>"
      ]
     },
     "metadata": {},
     "output_type": "display_data"
    },
    {
     "name": "stdout",
     "output_type": "stream",
     "text": [
      "UniqueRatio\n"
     ]
    },
    {
     "data": {
      "image/png": "[encoded data removed]",
      "text/plain": [
       "<matplotlib.figure.Figure at 0x1323cec4b38>"
      ]
     },
     "metadata": {},
     "output_type": "display_data"
    },
    {
     "name": "stdout",
     "output_type": "stream",
     "text": [
      "NumberOfCharacters\n"
     ]
    },
    {
     "data": {
      "image/png": "[encoded data removed]",
      "text/plain": [
       "<matplotlib.figure.Figure at 0x1323cec4b38>"
      ]
     },
     "metadata": {},
     "output_type": "display_data"
    },
    {
     "name": "stdout",
     "output_type": "stream",
     "text": [
      "NumberUniqueCharacters\n"
     ]
    },
    {
     "data": {
      "image/png": "[encoded data removed]",
      "text/plain": [
       "<matplotlib.figure.Figure at 0x1323cec4b38>"
      ]
     },
     "metadata": {},
     "output_type": "display_data"
    },
    {
     "name": "stdout",
     "output_type": "stream",
     "text": [
      "DocumentLength\n"
     ]
    },
    {
     "data": {
      "image/png": "[encoded data removed]",
      "text/plain": [
       "<matplotlib.figure.Figure at 0x1323cec4b38>"
      ]
     },
     "metadata": {},
     "output_type": "display_data"
    },
    {
     "name": "stdout",
     "output_type": "stream",
     "text": [
      "Polarity\n"
     ]
    },
    {
     "data": {
      "image/png": "[encoded data removed]",
      "text/plain": [
       "<matplotlib.figure.Figure at 0x1323cec4b38>"
      ]
     },
     "metadata": {},
     "output_type": "display_data"
    },
    {
     "name": "stdout",
     "output_type": "stream",
     "text": [
      "Subjectivity\n"
     ]
    },
    {
     "data": {
      "image/png": "[encoded data removed]",
      "text/plain": [
       "<matplotlib.figure.Figure at 0x1323cec4b38>"
      ]
     },
     "metadata": {},
     "output_type": "display_data"
    },
    {
     "name": "stdout",
     "output_type": "stream",
     "text": [
      "author\n"
     ]
    },
    {
     "data": {
      "text/plain": [
       "<matplotlib.figure.Figure at 0x1323cec4b38>"
      ]
     },
     "metadata": {},
     "output_type": "display_data"
    }
   ],
   "source": [
    "%matplotlib inline\n",
    "from IPython.display import display\n",
    "import seaborn as sns\n",
    "# Generate Boxplots by for the quanatative columns with the author\n",
    "for col in  metafeatures_df:\n",
    "    print(col)\n",
    "    if col == \"author\":\n",
    "        continue\n",
    "    subset = [col, \"author\"]\n",
    "    img = sns.boxplot(x=col, y=\"author\", data=metafeatures_df[subset])\n",
    "    fig = img.get_figure()\n",
    "    display(fig)\n",
    "    fig.savefig(col)\n",
    "    fig.clf()\n"
   ]
  },
  {
   "cell_type": "code",
   "execution_count": 68,
   "metadata": {
    "collapsed": true
   },
   "outputs": [],
   "source": []
  },
  {
   "cell_type": "markdown",
   "metadata": {},
   "source": [
    "We can try to estimate the importance of the metafeatures we built using a logit model and recurvsive feature elimination. "
   ]
  },
  {
   "cell_type": "code",
   "execution_count": 18,
   "metadata": {},
   "outputs": [
    {
     "ename": "NameError",
     "evalue": "name 'StratifiedKFold' is not defined",
     "output_type": "error",
     "traceback": [
      "\u001b[1;31m---------------------------------------------------------------------------\u001b[0m",
      "\u001b[1;31mNameError\u001b[0m                                 Traceback (most recent call last)",
      "\u001b[1;32m<ipython-input-18-7b3fa20a2d56>\u001b[0m in \u001b[0;36m<module>\u001b[1;34m()\u001b[0m\n\u001b[0;32m      1\u001b[0m \u001b[0mlr_clf\u001b[0m \u001b[1;33m=\u001b[0m \u001b[0mLogisticRegression\u001b[0m\u001b[1;33m(\u001b[0m\u001b[1;33m)\u001b[0m\u001b[1;33m\u001b[0m\u001b[0m\n\u001b[1;32m----> 2\u001b[1;33m rfecv = RFECV(estimator=lr_clf, step=1, cv=StratifiedKFold(10),\n\u001b[0m\u001b[0;32m      3\u001b[0m               scoring='accuracy')\n\u001b[0;32m      4\u001b[0m \u001b[0mrfecv\u001b[0m\u001b[1;33m.\u001b[0m\u001b[0mfit\u001b[0m\u001b[1;33m(\u001b[0m\u001b[0mmetafeatures_df\u001b[0m\u001b[1;33m[\u001b[0m\u001b[0mkeep_columns\u001b[0m\u001b[1;33m]\u001b[0m\u001b[1;33m,\u001b[0m \u001b[0mraw_data\u001b[0m\u001b[1;33m[\u001b[0m\u001b[1;34m\"author\"\u001b[0m\u001b[1;33m]\u001b[0m\u001b[1;33m)\u001b[0m\u001b[1;33m\u001b[0m\u001b[0m\n\u001b[0;32m      5\u001b[0m \u001b[1;33m\u001b[0m\u001b[0m\n",
      "\u001b[1;31mNameError\u001b[0m: name 'StratifiedKFold' is not defined"
     ]
    }
   ],
   "source": [
    "lr_clf = LogisticRegression()\n",
    "rfecv = RFECV(estimator=lr_clf, step=1, cv=StratifiedKFold(10),\n",
    "              scoring='accuracy')\n",
    "rfecv.fit(metafeatures_df[keep_columns], raw_data[\"author\"])\n",
    "\n",
    "print(\"Optimal number of features : %d\" % rfecv.n_features_)\n",
    "\n",
    "# Plot number of features VS. cross-validation scores\n",
    "plt.figure()\n",
    "plt.xlabel(\"Number of features selected\")\n",
    "plt.ylabel(\"Cross validation score (nb of correct classifications)\")\n",
    "plt.plot(range(1, len(rfecv.grid_scores_) + 1), rfecv.grid_scores_)\n",
    "plt.show()"
   ]
  },
  {
   "cell_type": "markdown",
   "metadata": {},
   "source": [
    "It looks like the best accuracy came from including all 15 variables. While not particularly interesting, this model achieved ~54% accuracy using just the metafeatures. This may be useful down the road as the metafeatures are agnostic of the words if the training and test sets are derived from different works. \n",
    "\n",
    "I am going to try using the text of the words now instead of just the metafeatures. For the first model, I am going to try using just the stopwords (e.g., I, the, a, am) as these are common words that are likely to persist across different works. "
   ]
  },
  {
   "cell_type": "code",
   "execution_count": 6,
   "metadata": {},
   "outputs": [
    {
     "name": "stdout",
     "output_type": "stream",
     "text": [
      "this however me no of the of my as i might make its and to the whence i out without being of the so seemed the\n"
     ]
    }
   ],
   "source": [
    "def stopword_features(document):\n",
    "    document = document.lower()\n",
    "    doc = nlp(document)\n",
    "    stopword_string = \" \".join([token.text for token in doc if token.is_stop])\n",
    "    return stopword_string\n",
    "\n",
    "\n",
    "stopword_strings = [stopword_features(x) for x in raw_data[\"text\"]]\n",
    "print(stopword_strings[0])"
   ]
  },
  {
   "cell_type": "markdown",
   "metadata": {},
   "source": [
    "We can use this function now to gather up all of our stopwords. To make this useable for a machine learning algorithm, we'll need to convert it to a matrix. Sklearn has tools that will convert words to a count matrix where each column is a word and the number of times it occurs in the document are the values. \n",
    "\n",
    "We'll also make use of the Pipeline class from Sklearn which makes it easy to roll preprocessing steps into one work stream. "
   ]
  },
  {
   "cell_type": "code",
   "execution_count": null,
   "metadata": {
    "collapsed": true
   },
   "outputs": [],
   "source": [
    "nb_estimators = [(\"count_vec\", CountVectorizer()), \n",
    "              (\"NB\", MultinomialNB())]\n",
    "nb_model = Pipeline(nb_estimators)\n",
    "nb_clf = Pipeline(nb_estimators)\n",
    "scores = cross_val_score(nb_clf, stopword_strings, raw_data[\"author\"], \n",
    "                                              cv=5, \n",
    "                                              scoring='accuracy')\n",
    "print(\"Accuracy:{0}\".format(scores.mean()))"
   ]
  },
  {
   "cell_type": "markdown",
   "metadata": {},
   "source": [
    "When I ran this, it an accuracy of ~ 61%. This was better than our metafeatures model but still not very good. We'll probably get the best accuracy from the actual words that the authors use (e.g., \"Raven\" or \"Cthulhu\") are probably good indicaters of Poe or Lovecraft. \n",
    "\n",
    "I am going to try lemmatizing the document to get normalize the text some."
   ]
  },
  {
   "cell_type": "code",
   "execution_count": 7,
   "metadata": {},
   "outputs": [
    {
     "data": {
      "text/plain": [
       "'i , me and my be stopwords and will be remove . so will this comma , . 100 be a number . also , the lemma of good be good'"
      ]
     },
     "execution_count": 7,
     "metadata": {},
     "output_type": "execute_result"
    }
   ],
   "source": [
    "import nltk\n",
    "from nltk.corpus import stopwords, wordnet\n",
    "from nltk.stem.wordnet import WordNetLemmatizer\n",
    "lemmatizer = WordNetLemmatizer()\n",
    "def wordnet_get(tagged_tokens):\n",
    "    \"\"\"Helper function for normalizing wordnet labels\n",
    "    \"\"\"\n",
    "    out_tokens = []\n",
    "    for token in tagged_tokens:\n",
    "        if token[1].startswith(\"J\"):\n",
    "            out_token = (token[0], wordnet.ADJ)\n",
    "        elif token[1].startswith(\"V\"):\n",
    "            out_token = (token[0], wordnet.VERB)\n",
    "        elif token[1].startswith(\"R\"):\n",
    "            out_token = (token[0], wordnet.ADV)\n",
    "        else:\n",
    "            out_token = (token[0], wordnet.NOUN)\n",
    "        out_tokens.append(out_token)\n",
    "    return out_tokens\n",
    "\n",
    "def clean_document(string, lemmatizer=lemmatizer):\n",
    "    \"\"\"Cleans the text by tokenizing, performing POS tagging, and lemmatizing it \n",
    "    \"\"\"\n",
    "    tokens = nltk.word_tokenize(string)\n",
    "    pos_tagged = wordnet_get(nltk.pos_tag(tokens))\n",
    "    lemmas = [lemmatizer.lemmatize(token[0], pos=token[1]).lower() for token in pos_tagged]\n",
    "    return \" \".join(lemmas)\n",
    "\n",
    "example_doc = \"\"\"I, me and my are stopwords and will be removed. So will this comma,. 100 is a number. \n",
    "                Also, the lemma of better is good\"\"\"\n",
    "clean_document(example_doc)"
   ]
  },
  {
   "cell_type": "code",
   "execution_count": 8,
   "metadata": {
    "collapsed": true
   },
   "outputs": [],
   "source": [
    "min_clean = [clean_document(x) for x in raw_data[\"text\"]]"
   ]
  },
  {
   "cell_type": "code",
   "execution_count": 102,
   "metadata": {},
   "outputs": [
    {
     "name": "stdout",
     "output_type": "stream",
     "text": [
      "{'count_vec__max_df': 0.5, 'count_vec__ngram_range': (1, 2)}\n"
     ]
    }
   ],
   "source": [
    "# We can use grid search here to try to find the best parameters\n",
    "nb_params = { \n",
    "          \"count_vec__ngram_range\": [(1, 1), (1, 2)], \n",
    "          \"count_vec__max_df\": [1.0, .5]} \n",
    "\n",
    "nb_estimators = [(\"count_vec\", CountVectorizer()), \n",
    "              (\"NB\", MultinomialNB())]\n",
    "nb_model = Pipeline(nb_estimators)\n",
    "nb_grid = GridSearchCV(estimator=nb_model, param_grid = nb_params)\n",
    "nb_grid.fit(min_clean, raw_data[\"author\"]) \n",
    "print(nb_grid.best_params_)"
   ]
  },
  {
   "cell_type": "code",
   "execution_count": 69,
   "metadata": {},
   "outputs": [
    {
     "name": "stdout",
     "output_type": "stream",
     "text": [
      "Accuracy:0.8432501823086866\n"
     ]
    }
   ],
   "source": [
    "token_estimaters = [(\"count_vectorizer\", CountVectorizer(max_df=.5, ngram_range=(1, 2))), \n",
    "                  (\"NB\", MultinomialNB())]\n",
    "                                                         \n",
    "\n",
    "content_nb = Pipeline(token_estimaters)\n",
    "content_scores = cross_val_score(content_nb, min_clean, raw_data[\"author\"], \n",
    "                                              cv=5, \n",
    "                                              scoring='accuracy')\n",
    "print(\"Accuracy:{0}\".format(content_scores.mean()))"
   ]
  },
  {
   "cell_type": "markdown",
   "metadata": {},
   "source": [
    "In addition to the words, we may be able to get some extra signal out of the individual characters. For example, it's possible that Poe uses more semicolons (;) than HPL. We can use the same tools for the character analyzer as the word tokens. "
   ]
  },
  {
   "cell_type": "code",
   "execution_count": 20,
   "metadata": {},
   "outputs": [
    {
     "name": "stdout",
     "output_type": "stream",
     "text": [
      "Accuracy:0.5496711790512643\n"
     ]
    }
   ],
   "source": [
    "character_vectorizer = CountVectorizer(analyzer=\"char\")\n",
    "character_estimators = [(\"character\", character_vectorizer),\n",
    "                       (\"NB\", MultinomialNB())]\n",
    "character_nb = Pipeline(character_estimators)\n",
    "character_scores = cross_val_score(character_nb, raw_data[\"text\"], raw_data[\"author\"], \n",
    "                                              cv=5, \n",
    "                                              scoring=\"accuracy\")\n",
    "print(\"Accuracy:{0}\".format(character_scores.mean()))"
   ]
  },
  {
   "cell_type": "markdown",
   "metadata": {},
   "source": [
    "The final thing I want to try is to use the Part-of-Speech tags. This may uncover additional patterns that are agnostic to the actual words used by the authors."
   ]
  },
  {
   "cell_type": "code",
   "execution_count": 9,
   "metadata": {
    "collapsed": true
   },
   "outputs": [],
   "source": [
    "def pos_cleaner(document):\n",
    "    \"\"\"Generates the part of speech tags for the document\n",
    "    \"\"\"\n",
    "    doc = nlp(document)\n",
    "    pos_tokens = \" \".join([token.tag_ for token in doc])\n",
    "    return pos_tokens\n",
    "    \n",
    "pos_strings = [pos_cleaner(x) for x in raw_data[\"text\"]]\n"
   ]
  },
  {
   "cell_type": "code",
   "execution_count": 87,
   "metadata": {},
   "outputs": [
    {
     "name": "stdout",
     "output_type": "stream",
     "text": [
      "{'count_vec__min_df': 1, 'count_vec__ngram_range': (2, 5)}\n"
     ]
    }
   ],
   "source": [
    "pos_params = { \n",
    "          \"count_vec__ngram_range\": [(2, 4), (2, 5), (4, 4)], \n",
    "          \"count_vec__min_df\": [1, 4]} \n",
    "\n",
    "pos_estimators = [(\"count_vec\", CountVectorizer()), \n",
    "              (\"NB\", MultinomialNB())]\n",
    "pos_model = Pipeline(pos_estimators)\n",
    "pos_grid = GridSearchCV(estimator=pos_model, param_grid = pos_params)\n",
    "pos_grid.fit(pos_strings, raw_data[\"author\"]) \n",
    "print(pos_grid.best_params_)"
   ]
  },
  {
   "cell_type": "code",
   "execution_count": 88,
   "metadata": {},
   "outputs": [
    {
     "name": "stdout",
     "output_type": "stream",
     "text": [
      "Accuracy:0.5877733162700229\n"
     ]
    }
   ],
   "source": [
    "pos_vectorizer = CountVectorizer(ngram_range=(2, 5), min_df=1)\n",
    "pos_estimators = [(\"character\", pos_vectorizer),\n",
    "                       (\"NB\", MultinomialNB())]\n",
    "pos_nb = Pipeline(pos_estimators)\n",
    "pos_scores = cross_val_score(pos_nb, pos_strings, raw_data[\"author\"], \n",
    "                                              cv=5, \n",
    "                                              scoring=\"accuracy\")\n",
    "print(\"Accuracy:{0}\".format(pos_scores.mean()))"
   ]
  },
  {
   "cell_type": "markdown",
   "metadata": {},
   "source": [
    "Including the actual words seems to make the best model. Still, we can probably squeeze more accuracy out of the individual models by stacking them together. \n",
    "\n",
    "We have five models now that give five different looks at our data. The metafeatures, the stopwords, the actual content with the most salient tokens, the part of speech tags, and the characters. I am going to add a sixth classifier with no cleaning to the final ensemble model.  \n",
    "\n",
    "To create a stacking classifier, I am going to use the mlextend library. We also need to write some boilerplate code to combine everything. "
   ]
  },
  {
   "cell_type": "code",
   "execution_count": 6,
   "metadata": {
    "collapsed": true
   },
   "outputs": [],
   "source": [
    "from sklearn.preprocessing import FunctionTransformer\n",
    "\n",
    "def pipelinize(function, active=True):\n",
    "    def list_comprehend_a_function(list_or_series, active=True):\n",
    "        if active:\n",
    "            return [function(i) for i in list_or_series]\n",
    "        else: # if it's not active, just pass it right back\n",
    "            return list_or_series\n",
    "    return FunctionTransformer(list_comprehend_a_function, validate=False, kw_args={'active':active})"
   ]
  },
  {
   "cell_type": "code",
   "execution_count": 118,
   "metadata": {
    "collapsed": true
   },
   "outputs": [],
   "source": [
    "# metafeatures stopwords, pos, simple clean, content\n",
    "from sklearn.model_selection import KFold\n",
    "from sklearn import metrics\n",
    "import numpy as np\n",
    "\n",
    "train_X = raw_data[\"text\"]\n",
    "train_y = raw_data[\"author\"]\n",
    "\n",
    "# read in test data \n",
    "train_df = pd.read_csv(\"train.csv\")\n",
    "test_df = pd.read_csv(\"test.csv\")\n",
    "test_id = test_df[\"id\"]"
   ]
  },
  {
   "cell_type": "code",
   "execution_count": 39,
   "metadata": {},
   "outputs": [],
   "source": [
    "# create a vector for just the characters \n",
    "char_vectorizer = CountVectorizer(analyzer=\"char\").fit(train_df[\"text\"])\n",
    "train_vector_char = char_vectorizer.transform(train_df[\"text\"])\n",
    "test_vector_char = char_vectorizer.transform(test_df[\"text\"])\n",
    "\n",
    "# create a vector for just the stopwords \n",
    "stop_vectorizer = CountVectorizer(preprocessor=stopword_features).fit(train_df[\"text\"])\n",
    "train_vector_stop = stop_vectorizer.transform(train_df[\"text\"])\n",
    "test_vector_stop = stop_vectorizer.transform(test_df[\"text\"])\n",
    "\n",
    "# this fist vector is for the simple vectorizer \n",
    "simple_vectorizer = CountVectorizer(lowercase=True).fit(train_df[\"text\"])\n",
    "train_vector_simple = simple_vectorizer.transform(train_df[\"text\"])\n",
    "test_vector_simple =  simple_vectorizer.transform(test_df[\"text\"])\n",
    "\n",
    "# create a vector for the part of speech tagger \n",
    "pos_vectorizer = CountVectorizer(preprocessor=pos_cleaner, ngram_range=(2, 3)).fit(train_df[\"text\"])\n",
    "train_vector_pos = pos_vectorizer.transform(train_df[\"text\"])\n",
    "test_vector_pos = pos_vectorizer.transform(test_df[\"text\"])\n",
    "\n",
    "\n"
   ]
  },
  {
   "cell_type": "code",
   "execution_count": 70,
   "metadata": {
    "collapsed": true
   },
   "outputs": [],
   "source": [
    "# create a vectorizer for the lemmatized strings \n",
    "lemma_vectorizer = CountVectorizer(preprocessor=clean_document, ngram_range=(1, 2), max_df=.5).fit(train_df[\"text\"])\n",
    "train_vector_lemma = lemma_vectorizer.transform(train_df[\"text\"])\n",
    "test_vector_lemma =  lemma_vectorizer.transform(test_df[\"text\"])"
   ]
  },
  {
   "cell_type": "code",
   "execution_count": 98,
   "metadata": {},
   "outputs": [],
   "source": [
    "# create a tfidf matrix with ngram features, this will capture frequent phrases\n",
    "ngram_vectorizer = TfidfVectorizer(lowercase=True, ngram_range=(2, 6), min_df=5).fit(train_df[\"text\"])\n",
    "train_vector_ngram = ngram_vectorizer.transform(train_df[\"text\"])\n",
    "test_vector_ngram =  ngram_vectorizer.transform(test_df[\"text\"])"
   ]
  },
  {
   "cell_type": "code",
   "execution_count": 47,
   "metadata": {
    "collapsed": true
   },
   "outputs": [],
   "source": [
    "train_meta = [metafeatures(x) for x in train_df[\"text\"]]\n",
    "test_meta =  [metafeatures(x) for x in test_df[\"text\"]]"
   ]
  },
  {
   "cell_type": "code",
   "execution_count": 61,
   "metadata": {},
   "outputs": [],
   "source": [
    "train_vector_meta = pd.DataFrame(train_meta, columns = columns, index=train_df.index)\n",
    "test_vector_meta = pd.DataFrame(test_meta, columns = columns, index=test_df.index)"
   ]
  },
  {
   "cell_type": "code",
   "execution_count": 99,
   "metadata": {},
   "outputs": [
    {
     "name": "stdout",
     "output_type": "stream",
     "text": [
      "(8392, 17025) (19579, 17025)\n",
      "(8392, 222660) (19579, 222660)\n",
      "(8392, 15) (19579, 15)\n",
      "(8392, 58) (19579, 58)\n",
      "(8392, 25068) (19579, 25068)\n",
      "(8392, 10401) (19579, 10401)\n",
      "(8392, 297) (19579, 297)\n"
     ]
    }
   ],
   "source": [
    "print(test_vector_ngram.shape, train_vector_ngram.shape)\n",
    "print(test_vector_lemma.shape, train_vector_lemma.shape)\n",
    "print(test_vector_meta.shape, train_vector_meta.shape)\n",
    "print(test_vector_char.shape, train_vector_char.shape)\n",
    "print(test_vector_simple.shape, train_vector_simple.shape)\n",
    "print(test_vector_pos.shape, train_vector_pos.shape)\n",
    "print(test_vector_stop.shape, train_vector_stop.shape)"
   ]
  },
  {
   "cell_type": "code",
   "execution_count": 119,
   "metadata": {},
   "outputs": [],
   "source": [
    "kf = KFold(n_splits=5, shuffle=True, random_state=2017)\n",
    "def run_nb(train_X, train_y, test_X, test_y, test_X2):\n",
    "    model = MultinomialNB()\n",
    "    model.fit(train_X, train_y)\n",
    "    pred_test_y = model.predict_proba(test_X)\n",
    "    pred_test_y2 = model.predict_proba(test_X2)\n",
    "    return pred_test_y, pred_test_y2, model\n",
    "\n",
    "def run_lr(train_X, train_y, test_X, test_y, test_X2):\n",
    "    model = LogisticRegression()\n",
    "    model.fit(train_X, train_y)\n",
    "    pred_test_y = model.predict_proba(test_X)\n",
    "    pred_test_y2 = model.predict_proba(test_X2)\n",
    "    return pred_test_y, pred_test_y2, model\n",
    "\n",
    "def build_predictions(test_predictions, training_predictions, dev_index, val_index, labels, training_features, \n",
    "                      test_features, model_fun):\n",
    "    \"\"\"Iteratively collects the predictions from the kfolds then appends them a dataframe\n",
    "    \"\"\"\n",
    "    dev_features, val_features = training_features[dev_index], training_features[val_index]\n",
    "    dev_labels, val_labels = labels[dev_index], labels[val_index]\n",
    "    prediction_validation_labels, prediction_test_labels, model = model_fun(dev_features, dev_labels, val_features,\n",
    "                                                                            val_labels, test_features)\n",
    "    test_predictions = test_predictions + prediction_test_labels\n",
    "    training_predictions[val_index,:] = prediction_validation_labels\n",
    "    return training_predictions, test_predictions\n",
    "\n",
    "# create the vector for the simple cleaner prediction \n",
    "simple_test_predictions = 0\n",
    "simple_pred_train = np.zeros([train_df.shape[0], 3])\n",
    "# create a vector for the part of speech cleaner\n",
    "pos_test_predictions = 0\n",
    "pos_pred_train = np.zeros([train_df.shape[0], 3])\n",
    "# create a vector for the stopwords \n",
    "stop_test_predictions = 0\n",
    "stop_pred_train = np.zeros([train_df.shape[0], 3])\n",
    "# create a vector for the characters \n",
    "char_test_predictions = 0\n",
    "char_pred_train = np.zeros([train_df.shape[0], 3])\n",
    "# create a vector for the metafeatures \n",
    "lr_test_predictions = 0\n",
    "lr_pred_train = np.zeros([train_df.shape[0], 3])\n",
    "# create a vector for the lemmatized features \n",
    "lemma_test_predictions = 0\n",
    "lemma_pred_train = np.zeros([train_df.shape[0], 3])\n",
    "# create a vector for the ngram phrases \n",
    "ngram_test_predictions = 0 \n",
    "ngram_pred_train = np.zeros([train_df.shape[0], 3])\n",
    "for dev_index, val_index in kf.split(train_X):\n",
    "    simple_training_predictions, simple_test_predictions = build_predictions(simple_test_predictions, simple_pred_train,\n",
    "                                                              dev_index, val_index, train_y, train_vector_simple, \n",
    "                                                              test_vector_simple, run_nb)\n",
    "    \n",
    "    pos_training_predictions, pos_test_predictions = build_predictions(pos_test_predictions, pos_pred_train,\n",
    "                                                              dev_index, val_index, train_y, train_vector_pos, \n",
    "                                                              test_vector_pos, run_nb)\n",
    "    stop_training_predictions, stop_test_predictions = build_predictions(stop_test_predictions, stop_pred_train,\n",
    "                                                              dev_index, val_index, train_y, train_vector_stop, \n",
    "                                                              test_vector_stop, run_nb)\n",
    "    char_training_predictions, char_test_predictions = build_predictions(char_test_predictions, char_pred_train,\n",
    "                                                              dev_index, val_index, train_y, train_vector_char, \n",
    "                                                              test_vector_char, run_nb)\n",
    "   \n",
    "    lr_training_predictions, lr_test_predictions = build_predictions(lr_test_predictions, lr_pred_train,\n",
    "                                                              dev_index, val_index, train_y, train_vector_simple , \n",
    "                                                              test_vector_simple, run_lr)\n",
    "    \n",
    "    lemma_training_predictions, lemma_test_predictions = build_predictions(lemma_test_predictions, lemma_pred_train,\n",
    "                                                              dev_index, val_index, train_y, train_vector_lemma , \n",
    "                                                              test_vector_lemma, run_nb)\n",
    "    \n",
    "    ngram_training_predictions, ngram_test_predictions = build_predictions(ngram_test_predictions, ngram_pred_train,\n",
    "                                                              dev_index, val_index, train_y, train_vector_ngram , \n",
    "                                                              test_vector_ngram, run_lr)\n",
    "    \n",
    "    \n",
    "\n",
    "\n",
    "    \n",
    "    #### Add all the predictions to a data frame to use as metafeatures ####\n",
    "def unpack_probabilities(train_df, train_predictions, test_df, test_predictions, column_label):\n",
    "    \"\"\"Appends the predicted probabilites to the dataframes\n",
    "    \"\"\"\n",
    "    eap_label = \"{0}_eap\".format(column_label)\n",
    "    hpl_label = \"{0}_hpl\".format(column_label)\n",
    "    mws_label = \"{0}_mws\".format(column_label)\n",
    "    train_df[eap_label], test_df[eap_label] = train_predictions[:, 0], test_predictions[:, 0]\n",
    "    train_df[hpl_label], test_df[hpl_label] = train_predictions[:, 1], test_predictions[:, 1]\n",
    "    train_df[mws_label], test_df[mws_label] = train_predictions[:, 2], test_predictions[:, 2]\n",
    "    return train_df, test_df\n",
    "    \n",
    "    \n",
    "train_df, test_df = unpack_probabilities(train_df, simple_training_predictions, test_df, simple_test_predictions, \"nb_simple\")\n",
    "train_df, test_df = unpack_probabilities(train_df, pos_training_predictions, test_df, pos_test_predictions, \"nb_pos\")\n",
    "train_df, test_df = unpack_probabilities(train_df, stop_training_predictions, test_df, stop_test_predictions, \"nb_stop\")\n",
    "train_df, test_df = unpack_probabilities(train_df, char_training_predictions, test_df, char_test_predictions, \"nb_char\")\n",
    "train_df, test_df = unpack_probabilities(train_df, lr_training_predictions, test_df, lr_test_predictions, \"lr_simple\")\n",
    "train_df, test_df = unpack_probabilities(train_df, lemma_training_predictions, test_df, lemma_test_predictions, \"nb_lemma\")\n",
    "# train_df, test_df = unpack_probabilities(train_df, ngram_training_predictions, test_df, ngram_test_predictions, \"lr_ngram\")"
   ]
  },
  {
   "cell_type": "code",
   "execution_count": 120,
   "metadata": {},
   "outputs": [
    {
     "data": {
      "text/html": [
       "<div>\n",
       "<style>\n",
       "    .dataframe thead tr:only-child th {\n",
       "        text-align: right;\n",
       "    }\n",
       "\n",
       "    .dataframe thead th {\n",
       "        text-align: left;\n",
       "    }\n",
       "\n",
       "    .dataframe tbody tr th {\n",
       "        vertical-align: top;\n",
       "    }\n",
       "</style>\n",
       "<table border=\"1\" class=\"dataframe\">\n",
       "  <thead>\n",
       "    <tr style=\"text-align: right;\">\n",
       "      <th></th>\n",
       "      <th>id</th>\n",
       "      <th>text</th>\n",
       "      <th>author</th>\n",
       "      <th>nb_simple_eap</th>\n",
       "      <th>nb_simple_hpl</th>\n",
       "      <th>nb_simple_mws</th>\n",
       "      <th>nb_pos_eap</th>\n",
       "      <th>nb_pos_hpl</th>\n",
       "      <th>nb_pos_mws</th>\n",
       "      <th>nb_stop_eap</th>\n",
       "      <th>...</th>\n",
       "      <th>Punctuation</th>\n",
       "      <th>TitleCase</th>\n",
       "      <th>Lowercase</th>\n",
       "      <th>AvgLength</th>\n",
       "      <th>UniqueRatio</th>\n",
       "      <th>NumberOfCharacters</th>\n",
       "      <th>NumberUniqueCharacters</th>\n",
       "      <th>DocumentLength</th>\n",
       "      <th>Polarity</th>\n",
       "      <th>Subjectivity</th>\n",
       "    </tr>\n",
       "  </thead>\n",
       "  <tbody>\n",
       "    <tr>\n",
       "      <th>0</th>\n",
       "      <td>id26305</td>\n",
       "      <td>This process, however, afforded me no means of...</td>\n",
       "      <td>EAP</td>\n",
       "      <td>9.999994e-01</td>\n",
       "      <td>3.950403e-07</td>\n",
       "      <td>2.149032e-07</td>\n",
       "      <td>9.664979e-01</td>\n",
       "      <td>0.000047</td>\n",
       "      <td>0.033455</td>\n",
       "      <td>0.901087</td>\n",
       "      <td>...</td>\n",
       "      <td>7</td>\n",
       "      <td>3</td>\n",
       "      <td>38</td>\n",
       "      <td>3.979167</td>\n",
       "      <td>0.791667</td>\n",
       "      <td>231</td>\n",
       "      <td>28</td>\n",
       "      <td>48</td>\n",
       "      <td>0.625000</td>\n",
       "      <td>0.625000</td>\n",
       "    </tr>\n",
       "    <tr>\n",
       "      <th>1</th>\n",
       "      <td>id17569</td>\n",
       "      <td>It never once occurred to me that the fumbling...</td>\n",
       "      <td>HPL</td>\n",
       "      <td>8.882647e-01</td>\n",
       "      <td>7.835361e-02</td>\n",
       "      <td>3.338169e-02</td>\n",
       "      <td>5.937842e-01</td>\n",
       "      <td>0.006138</td>\n",
       "      <td>0.400077</td>\n",
       "      <td>0.400400</td>\n",
       "      <td>...</td>\n",
       "      <td>1</td>\n",
       "      <td>1</td>\n",
       "      <td>13</td>\n",
       "      <td>3.866667</td>\n",
       "      <td>1.000000</td>\n",
       "      <td>71</td>\n",
       "      <td>22</td>\n",
       "      <td>15</td>\n",
       "      <td>-0.500000</td>\n",
       "      <td>0.500000</td>\n",
       "    </tr>\n",
       "    <tr>\n",
       "      <th>2</th>\n",
       "      <td>id11008</td>\n",
       "      <td>In his left hand was a gold snuff box, from wh...</td>\n",
       "      <td>EAP</td>\n",
       "      <td>9.780036e-01</td>\n",
       "      <td>2.199053e-02</td>\n",
       "      <td>5.887788e-06</td>\n",
       "      <td>9.149409e-01</td>\n",
       "      <td>0.084884</td>\n",
       "      <td>0.000175</td>\n",
       "      <td>0.142927</td>\n",
       "      <td>...</td>\n",
       "      <td>5</td>\n",
       "      <td>1</td>\n",
       "      <td>35</td>\n",
       "      <td>4.024390</td>\n",
       "      <td>0.829268</td>\n",
       "      <td>200</td>\n",
       "      <td>26</td>\n",
       "      <td>41</td>\n",
       "      <td>0.107407</td>\n",
       "      <td>0.681481</td>\n",
       "    </tr>\n",
       "    <tr>\n",
       "      <th>3</th>\n",
       "      <td>id27763</td>\n",
       "      <td>How lovely is spring As we looked from Windsor...</td>\n",
       "      <td>MWS</td>\n",
       "      <td>1.568978e-09</td>\n",
       "      <td>1.081852e-09</td>\n",
       "      <td>1.000000e+00</td>\n",
       "      <td>7.498435e-08</td>\n",
       "      <td>0.999996</td>\n",
       "      <td>0.000004</td>\n",
       "      <td>0.352653</td>\n",
       "      <td>...</td>\n",
       "      <td>4</td>\n",
       "      <td>4</td>\n",
       "      <td>30</td>\n",
       "      <td>4.552632</td>\n",
       "      <td>0.868421</td>\n",
       "      <td>206</td>\n",
       "      <td>30</td>\n",
       "      <td>38</td>\n",
       "      <td>0.500000</td>\n",
       "      <td>0.662500</td>\n",
       "    </tr>\n",
       "    <tr>\n",
       "      <th>4</th>\n",
       "      <td>id12958</td>\n",
       "      <td>Finding nothing else, not even gold, the Super...</td>\n",
       "      <td>HPL</td>\n",
       "      <td>6.310465e-01</td>\n",
       "      <td>3.661372e-01</td>\n",
       "      <td>2.816277e-03</td>\n",
       "      <td>9.991643e-01</td>\n",
       "      <td>0.000003</td>\n",
       "      <td>0.000832</td>\n",
       "      <td>0.180823</td>\n",
       "      <td>...</td>\n",
       "      <td>4</td>\n",
       "      <td>2</td>\n",
       "      <td>25</td>\n",
       "      <td>4.774194</td>\n",
       "      <td>0.903226</td>\n",
       "      <td>174</td>\n",
       "      <td>27</td>\n",
       "      <td>31</td>\n",
       "      <td>0.200000</td>\n",
       "      <td>0.512500</td>\n",
       "    </tr>\n",
       "  </tbody>\n",
       "</table>\n",
       "<p>5 rows × 36 columns</p>\n",
       "</div>"
      ],
      "text/plain": [
       "        id                                               text author  \\\n",
       "0  id26305  This process, however, afforded me no means of...    EAP   \n",
       "1  id17569  It never once occurred to me that the fumbling...    HPL   \n",
       "2  id11008  In his left hand was a gold snuff box, from wh...    EAP   \n",
       "3  id27763  How lovely is spring As we looked from Windsor...    MWS   \n",
       "4  id12958  Finding nothing else, not even gold, the Super...    HPL   \n",
       "\n",
       "   nb_simple_eap  nb_simple_hpl  nb_simple_mws    nb_pos_eap  nb_pos_hpl  \\\n",
       "0   9.999994e-01   3.950403e-07   2.149032e-07  9.664979e-01    0.000047   \n",
       "1   8.882647e-01   7.835361e-02   3.338169e-02  5.937842e-01    0.006138   \n",
       "2   9.780036e-01   2.199053e-02   5.887788e-06  9.149409e-01    0.084884   \n",
       "3   1.568978e-09   1.081852e-09   1.000000e+00  7.498435e-08    0.999996   \n",
       "4   6.310465e-01   3.661372e-01   2.816277e-03  9.991643e-01    0.000003   \n",
       "\n",
       "   nb_pos_mws  nb_stop_eap      ...       Punctuation  TitleCase  Lowercase  \\\n",
       "0    0.033455     0.901087      ...                 7          3         38   \n",
       "1    0.400077     0.400400      ...                 1          1         13   \n",
       "2    0.000175     0.142927      ...                 5          1         35   \n",
       "3    0.000004     0.352653      ...                 4          4         30   \n",
       "4    0.000832     0.180823      ...                 4          2         25   \n",
       "\n",
       "   AvgLength  UniqueRatio  NumberOfCharacters  NumberUniqueCharacters  \\\n",
       "0   3.979167     0.791667                 231                      28   \n",
       "1   3.866667     1.000000                  71                      22   \n",
       "2   4.024390     0.829268                 200                      26   \n",
       "3   4.552632     0.868421                 206                      30   \n",
       "4   4.774194     0.903226                 174                      27   \n",
       "\n",
       "   DocumentLength  Polarity  Subjectivity  \n",
       "0              48  0.625000      0.625000  \n",
       "1              15 -0.500000      0.500000  \n",
       "2              41  0.107407      0.681481  \n",
       "3              38  0.500000      0.662500  \n",
       "4              31  0.200000      0.512500  \n",
       "\n",
       "[5 rows x 36 columns]"
      ]
     },
     "execution_count": 120,
     "metadata": {},
     "output_type": "execute_result"
    }
   ],
   "source": [
    "train_df = pd.concat([train_df, train_vector_meta], axis=1)\n",
    "test_df = pd.concat([test_df, test_vector_meta], axis=1)\n",
    "train_df.head()"
   ]
  },
  {
   "cell_type": "code",
   "execution_count": 121,
   "metadata": {},
   "outputs": [],
   "source": [
    "import xgboost as xgb\n",
    "xgb_clf = xgb.XGBClassifier()\n",
    "\n",
    "def run_xgb(train_X, train_y, test_X, test_y, output_test_X):\n",
    "    model = xgb.XGBClassifier()\n",
    "    model.fit(train_X, train_y)\n",
    "    pred_test_y = model.predict_proba(test_X)\n",
    "    output_predictions = model.predict_proba(output_test_X)\n",
    "    return pred_test_y, output_predictions, model\n",
    "\n"
   ]
  },
  {
   "cell_type": "code",
   "execution_count": 122,
   "metadata": {},
   "outputs": [
    {
     "name": "stdout",
     "output_type": "stream",
     "text": [
      "cv scores :  [0.32117715142619135]\n"
     ]
    },
    {
     "data": {
      "text/html": [
       "<div>\n",
       "<style>\n",
       "    .dataframe thead tr:only-child th {\n",
       "        text-align: right;\n",
       "    }\n",
       "\n",
       "    .dataframe thead th {\n",
       "        text-align: left;\n",
       "    }\n",
       "\n",
       "    .dataframe tbody tr th {\n",
       "        vertical-align: top;\n",
       "    }\n",
       "</style>\n",
       "<table border=\"1\" class=\"dataframe\">\n",
       "  <thead>\n",
       "    <tr style=\"text-align: right;\">\n",
       "      <th></th>\n",
       "      <th>EAP</th>\n",
       "      <th>HPL</th>\n",
       "      <th>MWS</th>\n",
       "    </tr>\n",
       "  </thead>\n",
       "  <tbody>\n",
       "    <tr>\n",
       "      <th>0</th>\n",
       "      <td>0.131763</td>\n",
       "      <td>0.012227</td>\n",
       "      <td>0.856009</td>\n",
       "    </tr>\n",
       "    <tr>\n",
       "      <th>1</th>\n",
       "      <td>0.964202</td>\n",
       "      <td>0.014021</td>\n",
       "      <td>0.021777</td>\n",
       "    </tr>\n",
       "    <tr>\n",
       "      <th>2</th>\n",
       "      <td>0.003489</td>\n",
       "      <td>0.975387</td>\n",
       "      <td>0.021124</td>\n",
       "    </tr>\n",
       "    <tr>\n",
       "      <th>3</th>\n",
       "      <td>0.772583</td>\n",
       "      <td>0.222674</td>\n",
       "      <td>0.004744</td>\n",
       "    </tr>\n",
       "    <tr>\n",
       "      <th>4</th>\n",
       "      <td>0.782727</td>\n",
       "      <td>0.117969</td>\n",
       "      <td>0.099304</td>\n",
       "    </tr>\n",
       "  </tbody>\n",
       "</table>\n",
       "</div>"
      ],
      "text/plain": [
       "        EAP       HPL       MWS\n",
       "0  0.131763  0.012227  0.856009\n",
       "1  0.964202  0.014021  0.021777\n",
       "2  0.003489  0.975387  0.021124\n",
       "3  0.772583  0.222674  0.004744\n",
       "4  0.782727  0.117969  0.099304"
      ]
     },
     "execution_count": 122,
     "metadata": {},
     "output_type": "execute_result"
    }
   ],
   "source": [
    "cols_to_drop = ['id', 'text']\n",
    "train_X = train_df.drop(cols_to_drop+['author'], axis=1)\n",
    "test_X = test_df.drop(cols_to_drop, axis=1)\n",
    "\n",
    "kf = KFold(n_splits=5, shuffle=True, random_state=2017)\n",
    "cv_scores = []\n",
    "pred_full_test = 0\n",
    "pred_train = np.zeros([train_df.shape[0], 3])\n",
    "for dev_index, val_index in kf.split(train_X):\n",
    "    dev_X, val_X = train_X.loc[dev_index], train_X.loc[val_index]\n",
    "    dev_y, val_y = train_y[dev_index], train_y[val_index]\n",
    "    pred_val_y, pred_test_y, final_model = run_xgb(dev_X, dev_y, val_X, val_y, test_X)\n",
    "    pred_full_test = pred_full_test + pred_test_y\n",
    "    pred_train[val_index,:] = pred_val_y\n",
    "    cv_scores.append(metrics.log_loss(val_y, pred_val_y))\n",
    "    break\n",
    "print(\"cv scores : \", cv_scores)\n",
    "\n",
    "out_df = pd.DataFrame(pred_full_test)\n",
    "out_df.columns = ['EAP', 'HPL', 'MWS']\n",
    "out_df.head()"
   ]
  },
  {
   "cell_type": "code",
   "execution_count": 123,
   "metadata": {},
   "outputs": [
    {
     "data": {
      "image/png": "[encoded data removed]",
      "text/plain": [
       "<matplotlib.figure.Figure at 0x2b85f108e10>"
      ]
     },
     "metadata": {},
     "output_type": "display_data"
    }
   ],
   "source": [
    "import matplotlib.pyplot as plt\n",
    "fig, ax = plt.subplots(figsize=(12,12))\n",
    "xgb.plot_importance(final_model, height=0.8, ax=ax)\n",
    "plt.show()"
   ]
  },
  {
   "cell_type": "code",
   "execution_count": 117,
   "metadata": {
    "collapsed": true
   },
   "outputs": [],
   "source": [
    "out_df[\"id\"] = test_id \n",
    "out_df.to_csv(\"SubmissionCSV2.csv\", index=False)"
   ]
  },
  {
   "cell_type": "markdown",
   "metadata": {
    "collapsed": true
   },
   "source": [
    "Below, I have another approach to stacking models. This method is less verbose but will take longer durning the feature transformations because each transformation function is called again and again during the cross-validation. "
   ]
  },
  {
   "cell_type": "code",
   "execution_count": 105,
   "metadata": {
    "collapsed": true
   },
   "outputs": [],
   "source": [
    "from mlxtend.classifier import StackingClassifier\n",
    "vectorizer = CountVectorizer(lowercase=True)\n",
    "\n",
    "\n",
    "pos_pipeline = [(\"pos_clean\", pipelinize(pos_cleaner)),\n",
    "    (\"pos_vector\", CountVectorizer(ngram_range=(2, 5), min_df=1)),\n",
    "    (\"NB\", MultinomialNB())]\n",
    "\n",
    "character_pipeline = [(\"character\", CountVectorizer(analyzer=\"char\")),\n",
    "                       (\"NB\", MultinomialNB())]\n",
    "\n",
    "simple_pipeline = [(\"vectorizer\", CountVectorizer()),\n",
    "                  (\"simple_nb\", MultinomialNB())]\n",
    "\n",
    "content_pipeline = [(\"simple_clean\", pipelinize(clean_document)),\n",
    "                   (\"count_vectorizer\", CountVectorizer(max_df=.5, ngram_range=(1, 2))), \n",
    "                   (\"NB\", MultinomialNB())]\n",
    "\n",
    "meta_pipeline = [(\"meta_featuers\", pipelinize(metafeatures)),\n",
    "                 (\"LR\", LogisticRegression())]\n",
    "\n",
    "stopword_pipeline = [(\"stopword_clean\", pipelinize(stopword_features)),\n",
    "                    (\"count_vectorizer\", CountVectorizer()),\n",
    "                    (\"NB\", MultinomialNB())]\n",
    "\n",
    "\n",
    "# pos_clf = Pipeline(pos_pipeline)\n",
    "# character_clf = Pipeline(character_pipeline)\n",
    "# simple_clf = Pipeline(simple_pipeline)\n",
    "# content_clf = Pipeline(content_pipeline)\n",
    "# meta_clf = Pipeline(meta_pipeline)\n",
    "# stopword_clf = Pipeline(stopword_pipeline)"
   ]
  },
  {
   "cell_type": "code",
   "execution_count": 15,
   "metadata": {},
   "outputs": [
    {
     "name": "stdout",
     "output_type": "stream",
     "text": [
      "229.2231137752533\n"
     ]
    }
   ],
   "source": [
    "import time\n",
    "def clean_documents(document_list, lemmatizer=lemmatizer):\n",
    "    out_list = []\n",
    "    for document in document_list:\n",
    "        tokens = nltk.word_tokenize(document)\n",
    "        pos_tagged = wordnet_get(nltk.pos_tag(tokens))\n",
    "        lemmas = [lemmatizer.lemmatize(token[0], pos=token[1]).lower() for token in pos_tagged]\n",
    "        out_string = \" \".join(lemmas)\n",
    "        out_list.append(out_string)\n",
    "    return out_list\n",
    "before_compherension = time.time()\n",
    "e = clean_documents(raw_data[\"text\"])\n",
    "after_compherension = time.time()\n",
    "print(after_compherension - before_compherension)"
   ]
  },
  {
   "cell_type": "code",
   "execution_count": 108,
   "metadata": {},
   "outputs": [
    {
     "ename": "KeyboardInterrupt",
     "evalue": "",
     "output_type": "error",
     "traceback": [
      "\u001b[1;31m---------------------------------------------------------------------------\u001b[0m",
      "\u001b[1;31mFileNotFoundError\u001b[0m                         Traceback (most recent call last)",
      "\u001b[1;32mC:\\ProgramData\\Anaconda3\\lib\\genericpath.py\u001b[0m in \u001b[0;36misfile\u001b[1;34m(path)\u001b[0m\n\u001b[0;32m     29\u001b[0m     \u001b[1;32mtry\u001b[0m\u001b[1;33m:\u001b[0m\u001b[1;33m\u001b[0m\u001b[0m\n\u001b[1;32m---> 30\u001b[1;33m         \u001b[0mst\u001b[0m \u001b[1;33m=\u001b[0m \u001b[0mos\u001b[0m\u001b[1;33m.\u001b[0m\u001b[0mstat\u001b[0m\u001b[1;33m(\u001b[0m\u001b[0mpath\u001b[0m\u001b[1;33m)\u001b[0m\u001b[1;33m\u001b[0m\u001b[0m\n\u001b[0m\u001b[0;32m     31\u001b[0m     \u001b[1;32mexcept\u001b[0m \u001b[0mOSError\u001b[0m\u001b[1;33m:\u001b[0m\u001b[1;33m\u001b[0m\u001b[0m\n",
      "\u001b[1;31mFileNotFoundError\u001b[0m: [WinError 2] The system cannot find the file specified: 'C:\\\\Users\\\\maadland/nltk_data'",
      "\nDuring handling of the above exception, another exception occurred:\n",
      "\u001b[1;31mKeyboardInterrupt\u001b[0m                         Traceback (most recent call last)",
      "\u001b[1;32m<ipython-input-108-8eeb63bd0fbe>\u001b[0m in \u001b[0;36m<module>\u001b[1;34m()\u001b[0m\n\u001b[0;32m     14\u001b[0m ensemble_scores = cross_val_score(eclf, raw_data[\"text\"], raw_data[\"author\"], \n\u001b[0;32m     15\u001b[0m                                               \u001b[0mcv\u001b[0m\u001b[1;33m=\u001b[0m\u001b[1;36m3\u001b[0m\u001b[1;33m,\u001b[0m\u001b[1;33m\u001b[0m\u001b[0m\n\u001b[1;32m---> 16\u001b[1;33m                                               scoring=\"accuracy\")\n\u001b[0m\u001b[0;32m     17\u001b[0m \u001b[0mprint\u001b[0m\u001b[1;33m(\u001b[0m\u001b[0mensemble_scores\u001b[0m\u001b[1;33m.\u001b[0m\u001b[0mmean\u001b[0m\u001b[1;33m(\u001b[0m\u001b[1;33m)\u001b[0m\u001b[1;33m)\u001b[0m\u001b[1;33m\u001b[0m\u001b[0m\n",
      "\u001b[1;32mC:\\ProgramData\\Anaconda3\\lib\\site-packages\\sklearn\\model_selection\\_validation.py\u001b[0m in \u001b[0;36mcross_val_score\u001b[1;34m(estimator, X, y, groups, scoring, cv, n_jobs, verbose, fit_params, pre_dispatch)\u001b[0m\n\u001b[0;32m    138\u001b[0m                                               \u001b[0mtrain\u001b[0m\u001b[1;33m,\u001b[0m \u001b[0mtest\u001b[0m\u001b[1;33m,\u001b[0m \u001b[0mverbose\u001b[0m\u001b[1;33m,\u001b[0m \u001b[1;32mNone\u001b[0m\u001b[1;33m,\u001b[0m\u001b[1;33m\u001b[0m\u001b[0m\n\u001b[0;32m    139\u001b[0m                                               fit_params)\n\u001b[1;32m--> 140\u001b[1;33m                       for train, test in cv_iter)\n\u001b[0m\u001b[0;32m    141\u001b[0m     \u001b[1;32mreturn\u001b[0m \u001b[0mnp\u001b[0m\u001b[1;33m.\u001b[0m\u001b[0marray\u001b[0m\u001b[1;33m(\u001b[0m\u001b[0mscores\u001b[0m\u001b[1;33m)\u001b[0m\u001b[1;33m[\u001b[0m\u001b[1;33m:\u001b[0m\u001b[1;33m,\u001b[0m \u001b[1;36m0\u001b[0m\u001b[1;33m]\u001b[0m\u001b[1;33m\u001b[0m\u001b[0m\n\u001b[0;32m    142\u001b[0m \u001b[1;33m\u001b[0m\u001b[0m\n",
      "\u001b[1;32mC:\\ProgramData\\Anaconda3\\lib\\site-packages\\sklearn\\externals\\joblib\\parallel.py\u001b[0m in \u001b[0;36m__call__\u001b[1;34m(self, iterable)\u001b[0m\n\u001b[0;32m    756\u001b[0m             \u001b[1;31m# was dispatched. In particular this covers the edge\u001b[0m\u001b[1;33m\u001b[0m\u001b[1;33m\u001b[0m\u001b[0m\n\u001b[0;32m    757\u001b[0m             \u001b[1;31m# case of Parallel used with an exhausted iterator.\u001b[0m\u001b[1;33m\u001b[0m\u001b[1;33m\u001b[0m\u001b[0m\n\u001b[1;32m--> 758\u001b[1;33m             \u001b[1;32mwhile\u001b[0m \u001b[0mself\u001b[0m\u001b[1;33m.\u001b[0m\u001b[0mdispatch_one_batch\u001b[0m\u001b[1;33m(\u001b[0m\u001b[0miterator\u001b[0m\u001b[1;33m)\u001b[0m\u001b[1;33m:\u001b[0m\u001b[1;33m\u001b[0m\u001b[0m\n\u001b[0m\u001b[0;32m    759\u001b[0m                 \u001b[0mself\u001b[0m\u001b[1;33m.\u001b[0m\u001b[0m_iterating\u001b[0m \u001b[1;33m=\u001b[0m \u001b[1;32mTrue\u001b[0m\u001b[1;33m\u001b[0m\u001b[0m\n\u001b[0;32m    760\u001b[0m             \u001b[1;32melse\u001b[0m\u001b[1;33m:\u001b[0m\u001b[1;33m\u001b[0m\u001b[0m\n",
      "\u001b[1;32mC:\\ProgramData\\Anaconda3\\lib\\site-packages\\sklearn\\externals\\joblib\\parallel.py\u001b[0m in \u001b[0;36mdispatch_one_batch\u001b[1;34m(self, iterator)\u001b[0m\n\u001b[0;32m    606\u001b[0m                 \u001b[1;32mreturn\u001b[0m \u001b[1;32mFalse\u001b[0m\u001b[1;33m\u001b[0m\u001b[0m\n\u001b[0;32m    607\u001b[0m             \u001b[1;32melse\u001b[0m\u001b[1;33m:\u001b[0m\u001b[1;33m\u001b[0m\u001b[0m\n\u001b[1;32m--> 608\u001b[1;33m                 \u001b[0mself\u001b[0m\u001b[1;33m.\u001b[0m\u001b[0m_dispatch\u001b[0m\u001b[1;33m(\u001b[0m\u001b[0mtasks\u001b[0m\u001b[1;33m)\u001b[0m\u001b[1;33m\u001b[0m\u001b[0m\n\u001b[0m\u001b[0;32m    609\u001b[0m                 \u001b[1;32mreturn\u001b[0m \u001b[1;32mTrue\u001b[0m\u001b[1;33m\u001b[0m\u001b[0m\n\u001b[0;32m    610\u001b[0m \u001b[1;33m\u001b[0m\u001b[0m\n",
      "\u001b[1;32mC:\\ProgramData\\Anaconda3\\lib\\site-packages\\sklearn\\externals\\joblib\\parallel.py\u001b[0m in \u001b[0;36m_dispatch\u001b[1;34m(self, batch)\u001b[0m\n\u001b[0;32m    569\u001b[0m         \u001b[0mdispatch_timestamp\u001b[0m \u001b[1;33m=\u001b[0m \u001b[0mtime\u001b[0m\u001b[1;33m.\u001b[0m\u001b[0mtime\u001b[0m\u001b[1;33m(\u001b[0m\u001b[1;33m)\u001b[0m\u001b[1;33m\u001b[0m\u001b[0m\n\u001b[0;32m    570\u001b[0m         \u001b[0mcb\u001b[0m \u001b[1;33m=\u001b[0m \u001b[0mBatchCompletionCallBack\u001b[0m\u001b[1;33m(\u001b[0m\u001b[0mdispatch_timestamp\u001b[0m\u001b[1;33m,\u001b[0m \u001b[0mlen\u001b[0m\u001b[1;33m(\u001b[0m\u001b[0mbatch\u001b[0m\u001b[1;33m)\u001b[0m\u001b[1;33m,\u001b[0m \u001b[0mself\u001b[0m\u001b[1;33m)\u001b[0m\u001b[1;33m\u001b[0m\u001b[0m\n\u001b[1;32m--> 571\u001b[1;33m         \u001b[0mjob\u001b[0m \u001b[1;33m=\u001b[0m \u001b[0mself\u001b[0m\u001b[1;33m.\u001b[0m\u001b[0m_backend\u001b[0m\u001b[1;33m.\u001b[0m\u001b[0mapply_async\u001b[0m\u001b[1;33m(\u001b[0m\u001b[0mbatch\u001b[0m\u001b[1;33m,\u001b[0m \u001b[0mcallback\u001b[0m\u001b[1;33m=\u001b[0m\u001b[0mcb\u001b[0m\u001b[1;33m)\u001b[0m\u001b[1;33m\u001b[0m\u001b[0m\n\u001b[0m\u001b[0;32m    572\u001b[0m         \u001b[0mself\u001b[0m\u001b[1;33m.\u001b[0m\u001b[0m_jobs\u001b[0m\u001b[1;33m.\u001b[0m\u001b[0mappend\u001b[0m\u001b[1;33m(\u001b[0m\u001b[0mjob\u001b[0m\u001b[1;33m)\u001b[0m\u001b[1;33m\u001b[0m\u001b[0m\n\u001b[0;32m    573\u001b[0m \u001b[1;33m\u001b[0m\u001b[0m\n",
      "\u001b[1;32mC:\\ProgramData\\Anaconda3\\lib\\site-packages\\sklearn\\externals\\joblib\\_parallel_backends.py\u001b[0m in \u001b[0;36mapply_async\u001b[1;34m(self, func, callback)\u001b[0m\n\u001b[0;32m    107\u001b[0m     \u001b[1;32mdef\u001b[0m \u001b[0mapply_async\u001b[0m\u001b[1;33m(\u001b[0m\u001b[0mself\u001b[0m\u001b[1;33m,\u001b[0m \u001b[0mfunc\u001b[0m\u001b[1;33m,\u001b[0m \u001b[0mcallback\u001b[0m\u001b[1;33m=\u001b[0m\u001b[1;32mNone\u001b[0m\u001b[1;33m)\u001b[0m\u001b[1;33m:\u001b[0m\u001b[1;33m\u001b[0m\u001b[0m\n\u001b[0;32m    108\u001b[0m         \u001b[1;34m\"\"\"Schedule a func to be run\"\"\"\u001b[0m\u001b[1;33m\u001b[0m\u001b[0m\n\u001b[1;32m--> 109\u001b[1;33m         \u001b[0mresult\u001b[0m \u001b[1;33m=\u001b[0m \u001b[0mImmediateResult\u001b[0m\u001b[1;33m(\u001b[0m\u001b[0mfunc\u001b[0m\u001b[1;33m)\u001b[0m\u001b[1;33m\u001b[0m\u001b[0m\n\u001b[0m\u001b[0;32m    110\u001b[0m         \u001b[1;32mif\u001b[0m \u001b[0mcallback\u001b[0m\u001b[1;33m:\u001b[0m\u001b[1;33m\u001b[0m\u001b[0m\n\u001b[0;32m    111\u001b[0m             \u001b[0mcallback\u001b[0m\u001b[1;33m(\u001b[0m\u001b[0mresult\u001b[0m\u001b[1;33m)\u001b[0m\u001b[1;33m\u001b[0m\u001b[0m\n",
      "\u001b[1;32mC:\\ProgramData\\Anaconda3\\lib\\site-packages\\sklearn\\externals\\joblib\\_parallel_backends.py\u001b[0m in \u001b[0;36m__init__\u001b[1;34m(self, batch)\u001b[0m\n\u001b[0;32m    324\u001b[0m         \u001b[1;31m# Don't delay the application, to avoid keeping the input\u001b[0m\u001b[1;33m\u001b[0m\u001b[1;33m\u001b[0m\u001b[0m\n\u001b[0;32m    325\u001b[0m         \u001b[1;31m# arguments in memory\u001b[0m\u001b[1;33m\u001b[0m\u001b[1;33m\u001b[0m\u001b[0m\n\u001b[1;32m--> 326\u001b[1;33m         \u001b[0mself\u001b[0m\u001b[1;33m.\u001b[0m\u001b[0mresults\u001b[0m \u001b[1;33m=\u001b[0m \u001b[0mbatch\u001b[0m\u001b[1;33m(\u001b[0m\u001b[1;33m)\u001b[0m\u001b[1;33m\u001b[0m\u001b[0m\n\u001b[0m\u001b[0;32m    327\u001b[0m \u001b[1;33m\u001b[0m\u001b[0m\n\u001b[0;32m    328\u001b[0m     \u001b[1;32mdef\u001b[0m \u001b[0mget\u001b[0m\u001b[1;33m(\u001b[0m\u001b[0mself\u001b[0m\u001b[1;33m)\u001b[0m\u001b[1;33m:\u001b[0m\u001b[1;33m\u001b[0m\u001b[0m\n",
      "\u001b[1;32mC:\\ProgramData\\Anaconda3\\lib\\site-packages\\sklearn\\externals\\joblib\\parallel.py\u001b[0m in \u001b[0;36m__call__\u001b[1;34m(self)\u001b[0m\n\u001b[0;32m    129\u001b[0m \u001b[1;33m\u001b[0m\u001b[0m\n\u001b[0;32m    130\u001b[0m     \u001b[1;32mdef\u001b[0m \u001b[0m__call__\u001b[0m\u001b[1;33m(\u001b[0m\u001b[0mself\u001b[0m\u001b[1;33m)\u001b[0m\u001b[1;33m:\u001b[0m\u001b[1;33m\u001b[0m\u001b[0m\n\u001b[1;32m--> 131\u001b[1;33m         \u001b[1;32mreturn\u001b[0m \u001b[1;33m[\u001b[0m\u001b[0mfunc\u001b[0m\u001b[1;33m(\u001b[0m\u001b[1;33m*\u001b[0m\u001b[0margs\u001b[0m\u001b[1;33m,\u001b[0m \u001b[1;33m**\u001b[0m\u001b[0mkwargs\u001b[0m\u001b[1;33m)\u001b[0m \u001b[1;32mfor\u001b[0m \u001b[0mfunc\u001b[0m\u001b[1;33m,\u001b[0m \u001b[0margs\u001b[0m\u001b[1;33m,\u001b[0m \u001b[0mkwargs\u001b[0m \u001b[1;32min\u001b[0m \u001b[0mself\u001b[0m\u001b[1;33m.\u001b[0m\u001b[0mitems\u001b[0m\u001b[1;33m]\u001b[0m\u001b[1;33m\u001b[0m\u001b[0m\n\u001b[0m\u001b[0;32m    132\u001b[0m \u001b[1;33m\u001b[0m\u001b[0m\n\u001b[0;32m    133\u001b[0m     \u001b[1;32mdef\u001b[0m \u001b[0m__len__\u001b[0m\u001b[1;33m(\u001b[0m\u001b[0mself\u001b[0m\u001b[1;33m)\u001b[0m\u001b[1;33m:\u001b[0m\u001b[1;33m\u001b[0m\u001b[0m\n",
      "\u001b[1;32mC:\\ProgramData\\Anaconda3\\lib\\site-packages\\sklearn\\externals\\joblib\\parallel.py\u001b[0m in \u001b[0;36m<listcomp>\u001b[1;34m(.0)\u001b[0m\n\u001b[0;32m    129\u001b[0m \u001b[1;33m\u001b[0m\u001b[0m\n\u001b[0;32m    130\u001b[0m     \u001b[1;32mdef\u001b[0m \u001b[0m__call__\u001b[0m\u001b[1;33m(\u001b[0m\u001b[0mself\u001b[0m\u001b[1;33m)\u001b[0m\u001b[1;33m:\u001b[0m\u001b[1;33m\u001b[0m\u001b[0m\n\u001b[1;32m--> 131\u001b[1;33m         \u001b[1;32mreturn\u001b[0m \u001b[1;33m[\u001b[0m\u001b[0mfunc\u001b[0m\u001b[1;33m(\u001b[0m\u001b[1;33m*\u001b[0m\u001b[0margs\u001b[0m\u001b[1;33m,\u001b[0m \u001b[1;33m**\u001b[0m\u001b[0mkwargs\u001b[0m\u001b[1;33m)\u001b[0m \u001b[1;32mfor\u001b[0m \u001b[0mfunc\u001b[0m\u001b[1;33m,\u001b[0m \u001b[0margs\u001b[0m\u001b[1;33m,\u001b[0m \u001b[0mkwargs\u001b[0m \u001b[1;32min\u001b[0m \u001b[0mself\u001b[0m\u001b[1;33m.\u001b[0m\u001b[0mitems\u001b[0m\u001b[1;33m]\u001b[0m\u001b[1;33m\u001b[0m\u001b[0m\n\u001b[0m\u001b[0;32m    132\u001b[0m \u001b[1;33m\u001b[0m\u001b[0m\n\u001b[0;32m    133\u001b[0m     \u001b[1;32mdef\u001b[0m \u001b[0m__len__\u001b[0m\u001b[1;33m(\u001b[0m\u001b[0mself\u001b[0m\u001b[1;33m)\u001b[0m\u001b[1;33m:\u001b[0m\u001b[1;33m\u001b[0m\u001b[0m\n",
      "\u001b[1;32mC:\\ProgramData\\Anaconda3\\lib\\site-packages\\sklearn\\model_selection\\_validation.py\u001b[0m in \u001b[0;36m_fit_and_score\u001b[1;34m(estimator, X, y, scorer, train, test, verbose, parameters, fit_params, return_train_score, return_parameters, return_n_test_samples, return_times, error_score)\u001b[0m\n\u001b[0;32m    236\u001b[0m             \u001b[0mestimator\u001b[0m\u001b[1;33m.\u001b[0m\u001b[0mfit\u001b[0m\u001b[1;33m(\u001b[0m\u001b[0mX_train\u001b[0m\u001b[1;33m,\u001b[0m \u001b[1;33m**\u001b[0m\u001b[0mfit_params\u001b[0m\u001b[1;33m)\u001b[0m\u001b[1;33m\u001b[0m\u001b[0m\n\u001b[0;32m    237\u001b[0m         \u001b[1;32melse\u001b[0m\u001b[1;33m:\u001b[0m\u001b[1;33m\u001b[0m\u001b[0m\n\u001b[1;32m--> 238\u001b[1;33m             \u001b[0mestimator\u001b[0m\u001b[1;33m.\u001b[0m\u001b[0mfit\u001b[0m\u001b[1;33m(\u001b[0m\u001b[0mX_train\u001b[0m\u001b[1;33m,\u001b[0m \u001b[0my_train\u001b[0m\u001b[1;33m,\u001b[0m \u001b[1;33m**\u001b[0m\u001b[0mfit_params\u001b[0m\u001b[1;33m)\u001b[0m\u001b[1;33m\u001b[0m\u001b[0m\n\u001b[0m\u001b[0;32m    239\u001b[0m \u001b[1;33m\u001b[0m\u001b[0m\n\u001b[0;32m    240\u001b[0m     \u001b[1;32mexcept\u001b[0m \u001b[0mException\u001b[0m \u001b[1;32mas\u001b[0m \u001b[0me\u001b[0m\u001b[1;33m:\u001b[0m\u001b[1;33m\u001b[0m\u001b[0m\n",
      "\u001b[1;32mC:\\ProgramData\\Anaconda3\\lib\\site-packages\\mlxtend\\classifier\\ensemble_vote.py\u001b[0m in \u001b[0;36mfit\u001b[1;34m(self, X, y)\u001b[0m\n\u001b[0;32m    162\u001b[0m                     \u001b[0mprint\u001b[0m\u001b[1;33m(\u001b[0m\u001b[0m_name_estimators\u001b[0m\u001b[1;33m(\u001b[0m\u001b[1;33m(\u001b[0m\u001b[0mclf\u001b[0m\u001b[1;33m,\u001b[0m\u001b[1;33m)\u001b[0m\u001b[1;33m)\u001b[0m\u001b[1;33m[\u001b[0m\u001b[1;36m0\u001b[0m\u001b[1;33m]\u001b[0m\u001b[1;33m[\u001b[0m\u001b[1;36m1\u001b[0m\u001b[1;33m]\u001b[0m\u001b[1;33m)\u001b[0m\u001b[1;33m\u001b[0m\u001b[0m\n\u001b[0;32m    163\u001b[0m \u001b[1;33m\u001b[0m\u001b[0m\n\u001b[1;32m--> 164\u001b[1;33m                 \u001b[0mclf\u001b[0m\u001b[1;33m.\u001b[0m\u001b[0mfit\u001b[0m\u001b[1;33m(\u001b[0m\u001b[0mX\u001b[0m\u001b[1;33m,\u001b[0m \u001b[0mself\u001b[0m\u001b[1;33m.\u001b[0m\u001b[0mle_\u001b[0m\u001b[1;33m.\u001b[0m\u001b[0mtransform\u001b[0m\u001b[1;33m(\u001b[0m\u001b[0my\u001b[0m\u001b[1;33m)\u001b[0m\u001b[1;33m)\u001b[0m\u001b[1;33m\u001b[0m\u001b[0m\n\u001b[0m\u001b[0;32m    165\u001b[0m         \u001b[1;32mreturn\u001b[0m \u001b[0mself\u001b[0m\u001b[1;33m\u001b[0m\u001b[0m\n\u001b[0;32m    166\u001b[0m \u001b[1;33m\u001b[0m\u001b[0m\n",
      "\u001b[1;32mC:\\ProgramData\\Anaconda3\\lib\\site-packages\\sklearn\\pipeline.py\u001b[0m in \u001b[0;36mfit\u001b[1;34m(self, X, y, **fit_params)\u001b[0m\n\u001b[0;32m    266\u001b[0m             \u001b[0mThis\u001b[0m \u001b[0mestimator\u001b[0m\u001b[1;33m\u001b[0m\u001b[0m\n\u001b[0;32m    267\u001b[0m         \"\"\"\n\u001b[1;32m--> 268\u001b[1;33m         \u001b[0mXt\u001b[0m\u001b[1;33m,\u001b[0m \u001b[0mfit_params\u001b[0m \u001b[1;33m=\u001b[0m \u001b[0mself\u001b[0m\u001b[1;33m.\u001b[0m\u001b[0m_fit\u001b[0m\u001b[1;33m(\u001b[0m\u001b[0mX\u001b[0m\u001b[1;33m,\u001b[0m \u001b[0my\u001b[0m\u001b[1;33m,\u001b[0m \u001b[1;33m**\u001b[0m\u001b[0mfit_params\u001b[0m\u001b[1;33m)\u001b[0m\u001b[1;33m\u001b[0m\u001b[0m\n\u001b[0m\u001b[0;32m    269\u001b[0m         \u001b[1;32mif\u001b[0m \u001b[0mself\u001b[0m\u001b[1;33m.\u001b[0m\u001b[0m_final_estimator\u001b[0m \u001b[1;32mis\u001b[0m \u001b[1;32mnot\u001b[0m \u001b[1;32mNone\u001b[0m\u001b[1;33m:\u001b[0m\u001b[1;33m\u001b[0m\u001b[0m\n\u001b[0;32m    270\u001b[0m             \u001b[0mself\u001b[0m\u001b[1;33m.\u001b[0m\u001b[0m_final_estimator\u001b[0m\u001b[1;33m.\u001b[0m\u001b[0mfit\u001b[0m\u001b[1;33m(\u001b[0m\u001b[0mXt\u001b[0m\u001b[1;33m,\u001b[0m \u001b[0my\u001b[0m\u001b[1;33m,\u001b[0m \u001b[1;33m**\u001b[0m\u001b[0mfit_params\u001b[0m\u001b[1;33m)\u001b[0m\u001b[1;33m\u001b[0m\u001b[0m\n",
      "\u001b[1;32mC:\\ProgramData\\Anaconda3\\lib\\site-packages\\sklearn\\pipeline.py\u001b[0m in \u001b[0;36m_fit\u001b[1;34m(self, X, y, **fit_params)\u001b[0m\n\u001b[0;32m    232\u001b[0m                 \u001b[1;32mpass\u001b[0m\u001b[1;33m\u001b[0m\u001b[0m\n\u001b[0;32m    233\u001b[0m             \u001b[1;32melif\u001b[0m \u001b[0mhasattr\u001b[0m\u001b[1;33m(\u001b[0m\u001b[0mtransform\u001b[0m\u001b[1;33m,\u001b[0m \u001b[1;34m\"fit_transform\"\u001b[0m\u001b[1;33m)\u001b[0m\u001b[1;33m:\u001b[0m\u001b[1;33m\u001b[0m\u001b[0m\n\u001b[1;32m--> 234\u001b[1;33m                 \u001b[0mXt\u001b[0m \u001b[1;33m=\u001b[0m \u001b[0mtransform\u001b[0m\u001b[1;33m.\u001b[0m\u001b[0mfit_transform\u001b[0m\u001b[1;33m(\u001b[0m\u001b[0mXt\u001b[0m\u001b[1;33m,\u001b[0m \u001b[0my\u001b[0m\u001b[1;33m,\u001b[0m \u001b[1;33m**\u001b[0m\u001b[0mfit_params_steps\u001b[0m\u001b[1;33m[\u001b[0m\u001b[0mname\u001b[0m\u001b[1;33m]\u001b[0m\u001b[1;33m)\u001b[0m\u001b[1;33m\u001b[0m\u001b[0m\n\u001b[0m\u001b[0;32m    235\u001b[0m             \u001b[1;32melse\u001b[0m\u001b[1;33m:\u001b[0m\u001b[1;33m\u001b[0m\u001b[0m\n\u001b[0;32m    236\u001b[0m                 \u001b[0mXt\u001b[0m \u001b[1;33m=\u001b[0m \u001b[0mtransform\u001b[0m\u001b[1;33m.\u001b[0m\u001b[0mfit\u001b[0m\u001b[1;33m(\u001b[0m\u001b[0mXt\u001b[0m\u001b[1;33m,\u001b[0m \u001b[0my\u001b[0m\u001b[1;33m,\u001b[0m \u001b[1;33m**\u001b[0m\u001b[0mfit_params_steps\u001b[0m\u001b[1;33m[\u001b[0m\u001b[0mname\u001b[0m\u001b[1;33m]\u001b[0m\u001b[1;33m)\u001b[0m\u001b[0;31m \u001b[0m\u001b[0;31m\\\u001b[0m\u001b[1;33m\u001b[0m\u001b[0m\n",
      "\u001b[1;32mC:\\ProgramData\\Anaconda3\\lib\\site-packages\\sklearn\\base.py\u001b[0m in \u001b[0;36mfit_transform\u001b[1;34m(self, X, y, **fit_params)\u001b[0m\n\u001b[0;32m    495\u001b[0m         \u001b[1;32melse\u001b[0m\u001b[1;33m:\u001b[0m\u001b[1;33m\u001b[0m\u001b[0m\n\u001b[0;32m    496\u001b[0m             \u001b[1;31m# fit method of arity 2 (supervised transformation)\u001b[0m\u001b[1;33m\u001b[0m\u001b[1;33m\u001b[0m\u001b[0m\n\u001b[1;32m--> 497\u001b[1;33m             \u001b[1;32mreturn\u001b[0m \u001b[0mself\u001b[0m\u001b[1;33m.\u001b[0m\u001b[0mfit\u001b[0m\u001b[1;33m(\u001b[0m\u001b[0mX\u001b[0m\u001b[1;33m,\u001b[0m \u001b[0my\u001b[0m\u001b[1;33m,\u001b[0m \u001b[1;33m**\u001b[0m\u001b[0mfit_params\u001b[0m\u001b[1;33m)\u001b[0m\u001b[1;33m.\u001b[0m\u001b[0mtransform\u001b[0m\u001b[1;33m(\u001b[0m\u001b[0mX\u001b[0m\u001b[1;33m)\u001b[0m\u001b[1;33m\u001b[0m\u001b[0m\n\u001b[0m\u001b[0;32m    498\u001b[0m \u001b[1;33m\u001b[0m\u001b[0m\n\u001b[0;32m    499\u001b[0m \u001b[1;33m\u001b[0m\u001b[0m\n",
      "\u001b[1;32mC:\\ProgramData\\Anaconda3\\lib\\site-packages\\sklearn\\preprocessing\\_function_transformer.py\u001b[0m in \u001b[0;36mtransform\u001b[1;34m(self, X, y)\u001b[0m\n\u001b[0;32m     79\u001b[0m \u001b[1;33m\u001b[0m\u001b[0m\n\u001b[0;32m     80\u001b[0m     \u001b[1;32mdef\u001b[0m \u001b[0mtransform\u001b[0m\u001b[1;33m(\u001b[0m\u001b[0mself\u001b[0m\u001b[1;33m,\u001b[0m \u001b[0mX\u001b[0m\u001b[1;33m,\u001b[0m \u001b[0my\u001b[0m\u001b[1;33m=\u001b[0m\u001b[1;32mNone\u001b[0m\u001b[1;33m)\u001b[0m\u001b[1;33m:\u001b[0m\u001b[1;33m\u001b[0m\u001b[0m\n\u001b[1;32m---> 81\u001b[1;33m         \u001b[1;32mreturn\u001b[0m \u001b[0mself\u001b[0m\u001b[1;33m.\u001b[0m\u001b[0m_transform\u001b[0m\u001b[1;33m(\u001b[0m\u001b[0mX\u001b[0m\u001b[1;33m,\u001b[0m \u001b[0my\u001b[0m\u001b[1;33m,\u001b[0m \u001b[0mself\u001b[0m\u001b[1;33m.\u001b[0m\u001b[0mfunc\u001b[0m\u001b[1;33m,\u001b[0m \u001b[0mself\u001b[0m\u001b[1;33m.\u001b[0m\u001b[0mkw_args\u001b[0m\u001b[1;33m)\u001b[0m\u001b[1;33m\u001b[0m\u001b[0m\n\u001b[0m\u001b[0;32m     82\u001b[0m \u001b[1;33m\u001b[0m\u001b[0m\n\u001b[0;32m     83\u001b[0m     \u001b[1;32mdef\u001b[0m \u001b[0minverse_transform\u001b[0m\u001b[1;33m(\u001b[0m\u001b[0mself\u001b[0m\u001b[1;33m,\u001b[0m \u001b[0mX\u001b[0m\u001b[1;33m,\u001b[0m \u001b[0my\u001b[0m\u001b[1;33m=\u001b[0m\u001b[1;32mNone\u001b[0m\u001b[1;33m)\u001b[0m\u001b[1;33m:\u001b[0m\u001b[1;33m\u001b[0m\u001b[0m\n",
      "\u001b[1;32mC:\\ProgramData\\Anaconda3\\lib\\site-packages\\sklearn\\preprocessing\\_function_transformer.py\u001b[0m in \u001b[0;36m_transform\u001b[1;34m(self, X, y, func, kw_args)\u001b[0m\n\u001b[0;32m     92\u001b[0m \u001b[1;33m\u001b[0m\u001b[0m\n\u001b[0;32m     93\u001b[0m         return func(X, *((y,) if self.pass_y else ()),\n\u001b[1;32m---> 94\u001b[1;33m                     **(kw_args if kw_args else {}))\n\u001b[0m",
      "\u001b[1;32m<ipython-input-47-5bb388f49a62>\u001b[0m in \u001b[0;36mlist_comprehend_a_function\u001b[1;34m(list_or_series, active)\u001b[0m\n\u001b[0;32m      4\u001b[0m     \u001b[1;32mdef\u001b[0m \u001b[0mlist_comprehend_a_function\u001b[0m\u001b[1;33m(\u001b[0m\u001b[0mlist_or_series\u001b[0m\u001b[1;33m,\u001b[0m \u001b[0mactive\u001b[0m\u001b[1;33m=\u001b[0m\u001b[1;32mTrue\u001b[0m\u001b[1;33m)\u001b[0m\u001b[1;33m:\u001b[0m\u001b[1;33m\u001b[0m\u001b[0m\n\u001b[0;32m      5\u001b[0m         \u001b[1;32mif\u001b[0m \u001b[0mactive\u001b[0m\u001b[1;33m:\u001b[0m\u001b[1;33m\u001b[0m\u001b[0m\n\u001b[1;32m----> 6\u001b[1;33m             \u001b[1;32mreturn\u001b[0m \u001b[1;33m[\u001b[0m\u001b[0mfunction\u001b[0m\u001b[1;33m(\u001b[0m\u001b[0mi\u001b[0m\u001b[1;33m)\u001b[0m \u001b[1;32mfor\u001b[0m \u001b[0mi\u001b[0m \u001b[1;32min\u001b[0m \u001b[0mlist_or_series\u001b[0m\u001b[1;33m]\u001b[0m\u001b[1;33m\u001b[0m\u001b[0m\n\u001b[0m\u001b[0;32m      7\u001b[0m         \u001b[1;32melse\u001b[0m\u001b[1;33m:\u001b[0m \u001b[1;31m# if it's not active, just pass it right back\u001b[0m\u001b[1;33m\u001b[0m\u001b[0m\n\u001b[0;32m      8\u001b[0m             \u001b[1;32mreturn\u001b[0m \u001b[0mlist_or_series\u001b[0m\u001b[1;33m\u001b[0m\u001b[0m\n",
      "\u001b[1;32m<ipython-input-47-5bb388f49a62>\u001b[0m in \u001b[0;36m<listcomp>\u001b[1;34m(.0)\u001b[0m\n\u001b[0;32m      4\u001b[0m     \u001b[1;32mdef\u001b[0m \u001b[0mlist_comprehend_a_function\u001b[0m\u001b[1;33m(\u001b[0m\u001b[0mlist_or_series\u001b[0m\u001b[1;33m,\u001b[0m \u001b[0mactive\u001b[0m\u001b[1;33m=\u001b[0m\u001b[1;32mTrue\u001b[0m\u001b[1;33m)\u001b[0m\u001b[1;33m:\u001b[0m\u001b[1;33m\u001b[0m\u001b[0m\n\u001b[0;32m      5\u001b[0m         \u001b[1;32mif\u001b[0m \u001b[0mactive\u001b[0m\u001b[1;33m:\u001b[0m\u001b[1;33m\u001b[0m\u001b[0m\n\u001b[1;32m----> 6\u001b[1;33m             \u001b[1;32mreturn\u001b[0m \u001b[1;33m[\u001b[0m\u001b[0mfunction\u001b[0m\u001b[1;33m(\u001b[0m\u001b[0mi\u001b[0m\u001b[1;33m)\u001b[0m \u001b[1;32mfor\u001b[0m \u001b[0mi\u001b[0m \u001b[1;32min\u001b[0m \u001b[0mlist_or_series\u001b[0m\u001b[1;33m]\u001b[0m\u001b[1;33m\u001b[0m\u001b[0m\n\u001b[0m\u001b[0;32m      7\u001b[0m         \u001b[1;32melse\u001b[0m\u001b[1;33m:\u001b[0m \u001b[1;31m# if it's not active, just pass it right back\u001b[0m\u001b[1;33m\u001b[0m\u001b[0m\n\u001b[0;32m      8\u001b[0m             \u001b[1;32mreturn\u001b[0m \u001b[0mlist_or_series\u001b[0m\u001b[1;33m\u001b[0m\u001b[0m\n",
      "\u001b[1;32m<ipython-input-98-16efc2c6e600>\u001b[0m in \u001b[0;36mclean_document\u001b[1;34m(string, lemmatizer)\u001b[0m\n\u001b[0;32m     23\u001b[0m     \"\"\"\n\u001b[0;32m     24\u001b[0m     \u001b[0mtokens\u001b[0m \u001b[1;33m=\u001b[0m \u001b[0mnltk\u001b[0m\u001b[1;33m.\u001b[0m\u001b[0mword_tokenize\u001b[0m\u001b[1;33m(\u001b[0m\u001b[0mstring\u001b[0m\u001b[1;33m)\u001b[0m\u001b[1;33m\u001b[0m\u001b[0m\n\u001b[1;32m---> 25\u001b[1;33m     \u001b[0mpos_tagged\u001b[0m \u001b[1;33m=\u001b[0m \u001b[0mwordnet_get\u001b[0m\u001b[1;33m(\u001b[0m\u001b[0mnltk\u001b[0m\u001b[1;33m.\u001b[0m\u001b[0mpos_tag\u001b[0m\u001b[1;33m(\u001b[0m\u001b[0mtokens\u001b[0m\u001b[1;33m)\u001b[0m\u001b[1;33m)\u001b[0m\u001b[1;33m\u001b[0m\u001b[0m\n\u001b[0m\u001b[0;32m     26\u001b[0m     \u001b[0mlemmas\u001b[0m \u001b[1;33m=\u001b[0m \u001b[1;33m[\u001b[0m\u001b[0mlemmatizer\u001b[0m\u001b[1;33m.\u001b[0m\u001b[0mlemmatize\u001b[0m\u001b[1;33m(\u001b[0m\u001b[0mtoken\u001b[0m\u001b[1;33m[\u001b[0m\u001b[1;36m0\u001b[0m\u001b[1;33m]\u001b[0m\u001b[1;33m,\u001b[0m \u001b[0mpos\u001b[0m\u001b[1;33m=\u001b[0m\u001b[0mtoken\u001b[0m\u001b[1;33m[\u001b[0m\u001b[1;36m1\u001b[0m\u001b[1;33m]\u001b[0m\u001b[1;33m)\u001b[0m\u001b[1;33m.\u001b[0m\u001b[0mlower\u001b[0m\u001b[1;33m(\u001b[0m\u001b[1;33m)\u001b[0m \u001b[1;32mfor\u001b[0m \u001b[0mtoken\u001b[0m \u001b[1;32min\u001b[0m \u001b[0mpos_tagged\u001b[0m\u001b[1;33m]\u001b[0m\u001b[1;33m\u001b[0m\u001b[0m\n\u001b[0;32m     27\u001b[0m     \u001b[1;32mreturn\u001b[0m \u001b[1;34m\" \"\u001b[0m\u001b[1;33m.\u001b[0m\u001b[0mjoin\u001b[0m\u001b[1;33m(\u001b[0m\u001b[0mlemmas\u001b[0m\u001b[1;33m)\u001b[0m\u001b[1;33m\u001b[0m\u001b[0m\n",
      "\u001b[1;32mC:\\ProgramData\\Anaconda3\\lib\\site-packages\\nltk\\tag\\__init__.py\u001b[0m in \u001b[0;36mpos_tag\u001b[1;34m(tokens, tagset, lang)\u001b[0m\n\u001b[0;32m    124\u001b[0m     \u001b[1;33m:\u001b[0m\u001b[0mrtype\u001b[0m\u001b[1;33m:\u001b[0m \u001b[0mlist\u001b[0m\u001b[1;33m(\u001b[0m\u001b[0mtuple\u001b[0m\u001b[1;33m(\u001b[0m\u001b[0mstr\u001b[0m\u001b[1;33m,\u001b[0m \u001b[0mstr\u001b[0m\u001b[1;33m)\u001b[0m\u001b[1;33m)\u001b[0m\u001b[1;33m\u001b[0m\u001b[0m\n\u001b[0;32m    125\u001b[0m     \"\"\"\n\u001b[1;32m--> 126\u001b[1;33m     \u001b[0mtagger\u001b[0m \u001b[1;33m=\u001b[0m \u001b[0m_get_tagger\u001b[0m\u001b[1;33m(\u001b[0m\u001b[0mlang\u001b[0m\u001b[1;33m)\u001b[0m\u001b[1;33m\u001b[0m\u001b[0m\n\u001b[0m\u001b[0;32m    127\u001b[0m     \u001b[1;32mreturn\u001b[0m \u001b[0m_pos_tag\u001b[0m\u001b[1;33m(\u001b[0m\u001b[0mtokens\u001b[0m\u001b[1;33m,\u001b[0m \u001b[0mtagset\u001b[0m\u001b[1;33m,\u001b[0m \u001b[0mtagger\u001b[0m\u001b[1;33m)\u001b[0m\u001b[1;33m\u001b[0m\u001b[0m\n\u001b[0;32m    128\u001b[0m \u001b[1;33m\u001b[0m\u001b[0m\n",
      "\u001b[1;32mC:\\ProgramData\\Anaconda3\\lib\\site-packages\\nltk\\tag\\__init__.py\u001b[0m in \u001b[0;36m_get_tagger\u001b[1;34m(lang)\u001b[0m\n\u001b[0;32m     88\u001b[0m         \u001b[0mtagger\u001b[0m\u001b[1;33m.\u001b[0m\u001b[0mload\u001b[0m\u001b[1;33m(\u001b[0m\u001b[0map_russian_model_loc\u001b[0m\u001b[1;33m)\u001b[0m\u001b[1;33m\u001b[0m\u001b[0m\n\u001b[0;32m     89\u001b[0m     \u001b[1;32melse\u001b[0m\u001b[1;33m:\u001b[0m\u001b[1;33m\u001b[0m\u001b[0m\n\u001b[1;32m---> 90\u001b[1;33m         \u001b[0mtagger\u001b[0m \u001b[1;33m=\u001b[0m \u001b[0mPerceptronTagger\u001b[0m\u001b[1;33m(\u001b[0m\u001b[1;33m)\u001b[0m\u001b[1;33m\u001b[0m\u001b[0m\n\u001b[0m\u001b[0;32m     91\u001b[0m     \u001b[1;32mreturn\u001b[0m \u001b[0mtagger\u001b[0m\u001b[1;33m\u001b[0m\u001b[0m\n\u001b[0;32m     92\u001b[0m \u001b[1;33m\u001b[0m\u001b[0m\n",
      "\u001b[1;32mC:\\ProgramData\\Anaconda3\\lib\\site-packages\\nltk\\tag\\perceptron.py\u001b[0m in \u001b[0;36m__init__\u001b[1;34m(self, load)\u001b[0m\n\u001b[0;32m    138\u001b[0m         \u001b[0mself\u001b[0m\u001b[1;33m.\u001b[0m\u001b[0mclasses\u001b[0m \u001b[1;33m=\u001b[0m \u001b[0mset\u001b[0m\u001b[1;33m(\u001b[0m\u001b[1;33m)\u001b[0m\u001b[1;33m\u001b[0m\u001b[0m\n\u001b[0;32m    139\u001b[0m         \u001b[1;32mif\u001b[0m \u001b[0mload\u001b[0m\u001b[1;33m:\u001b[0m\u001b[1;33m\u001b[0m\u001b[0m\n\u001b[1;32m--> 140\u001b[1;33m             \u001b[0mAP_MODEL_LOC\u001b[0m \u001b[1;33m=\u001b[0m \u001b[1;34m'file:'\u001b[0m\u001b[1;33m+\u001b[0m\u001b[0mstr\u001b[0m\u001b[1;33m(\u001b[0m\u001b[0mfind\u001b[0m\u001b[1;33m(\u001b[0m\u001b[1;34m'taggers/averaged_perceptron_tagger/'\u001b[0m\u001b[1;33m+\u001b[0m\u001b[0mPICKLE\u001b[0m\u001b[1;33m)\u001b[0m\u001b[1;33m)\u001b[0m\u001b[1;33m\u001b[0m\u001b[0m\n\u001b[0m\u001b[0;32m    141\u001b[0m             \u001b[0mself\u001b[0m\u001b[1;33m.\u001b[0m\u001b[0mload\u001b[0m\u001b[1;33m(\u001b[0m\u001b[0mAP_MODEL_LOC\u001b[0m\u001b[1;33m)\u001b[0m\u001b[1;33m\u001b[0m\u001b[0m\n\u001b[0;32m    142\u001b[0m \u001b[1;33m\u001b[0m\u001b[0m\n",
      "\u001b[1;32mC:\\ProgramData\\Anaconda3\\lib\\site-packages\\nltk\\data.py\u001b[0m in \u001b[0;36mfind\u001b[1;34m(resource_name, paths)\u001b[0m\n\u001b[0;32m    604\u001b[0m     \u001b[1;32mfor\u001b[0m \u001b[0mpath_\u001b[0m \u001b[1;32min\u001b[0m \u001b[0mpaths\u001b[0m\u001b[1;33m:\u001b[0m\u001b[1;33m\u001b[0m\u001b[0m\n\u001b[0;32m    605\u001b[0m         \u001b[1;31m# Is the path item a zipfile?\u001b[0m\u001b[1;33m\u001b[0m\u001b[1;33m\u001b[0m\u001b[0m\n\u001b[1;32m--> 606\u001b[1;33m         \u001b[1;32mif\u001b[0m \u001b[0mpath_\u001b[0m \u001b[1;32mand\u001b[0m \u001b[1;33m(\u001b[0m\u001b[0mos\u001b[0m\u001b[1;33m.\u001b[0m\u001b[0mpath\u001b[0m\u001b[1;33m.\u001b[0m\u001b[0misfile\u001b[0m\u001b[1;33m(\u001b[0m\u001b[0mpath_\u001b[0m\u001b[1;33m)\u001b[0m \u001b[1;32mand\u001b[0m \u001b[0mpath_\u001b[0m\u001b[1;33m.\u001b[0m\u001b[0mendswith\u001b[0m\u001b[1;33m(\u001b[0m\u001b[1;34m'.zip'\u001b[0m\u001b[1;33m)\u001b[0m\u001b[1;33m)\u001b[0m\u001b[1;33m:\u001b[0m\u001b[1;33m\u001b[0m\u001b[0m\n\u001b[0m\u001b[0;32m    607\u001b[0m             \u001b[1;32mtry\u001b[0m\u001b[1;33m:\u001b[0m\u001b[1;33m\u001b[0m\u001b[0m\n\u001b[0;32m    608\u001b[0m                 \u001b[1;32mreturn\u001b[0m \u001b[0mZipFilePathPointer\u001b[0m\u001b[1;33m(\u001b[0m\u001b[0mpath_\u001b[0m\u001b[1;33m,\u001b[0m \u001b[0mresource_name\u001b[0m\u001b[1;33m)\u001b[0m\u001b[1;33m\u001b[0m\u001b[0m\n",
      "\u001b[1;32mC:\\ProgramData\\Anaconda3\\lib\\genericpath.py\u001b[0m in \u001b[0;36misfile\u001b[1;34m(path)\u001b[0m\n\u001b[0;32m     28\u001b[0m     \u001b[1;34m\"\"\"Test whether a path is a regular file\"\"\"\u001b[0m\u001b[1;33m\u001b[0m\u001b[0m\n\u001b[0;32m     29\u001b[0m     \u001b[1;32mtry\u001b[0m\u001b[1;33m:\u001b[0m\u001b[1;33m\u001b[0m\u001b[0m\n\u001b[1;32m---> 30\u001b[1;33m         \u001b[0mst\u001b[0m \u001b[1;33m=\u001b[0m \u001b[0mos\u001b[0m\u001b[1;33m.\u001b[0m\u001b[0mstat\u001b[0m\u001b[1;33m(\u001b[0m\u001b[0mpath\u001b[0m\u001b[1;33m)\u001b[0m\u001b[1;33m\u001b[0m\u001b[0m\n\u001b[0m\u001b[0;32m     31\u001b[0m     \u001b[1;32mexcept\u001b[0m \u001b[0mOSError\u001b[0m\u001b[1;33m:\u001b[0m\u001b[1;33m\u001b[0m\u001b[0m\n\u001b[0;32m     32\u001b[0m         \u001b[1;32mreturn\u001b[0m \u001b[1;32mFalse\u001b[0m\u001b[1;33m\u001b[0m\u001b[0m\n",
      "\u001b[1;31mKeyboardInterrupt\u001b[0m: "
     ]
    }
   ],
   "source": [
    "# pos, character, simple, content, meta, stopword\n",
    "# drop character and meta classifiers as they haven't seem to improve predictions much\n",
    "from mlxtend.classifier import EnsembleVoteClassifier\n",
    "weights = [1, 2, 2]\n",
    "pos_clf = Pipeline(pos_pipeline)\n",
    "# character_clf = Pipeline(character_pipeline)\n",
    "simple_clf = Pipeline(simple_pipeline)\n",
    "content_clf = Pipeline(content_pipeline)\n",
    "# meta_clf = Pipeline(meta_pipeline)\n",
    "# stopword_clf = Pipeline(stopword_pipeline)\n",
    "clf_batch = [pos_clf, simple_clf, content_clf]\n",
    "\n",
    "eclf = EnsembleVoteClassifier(clfs=clf_batch, weights=weights, voting=\"soft\")\n",
    "ensemble_scores = cross_val_score(eclf, raw_data[\"text\"], raw_data[\"author\"], \n",
    "                                              cv=3, \n",
    "                                              scoring=\"accuracy\")\n",
    "print(ensemble_scores.mean())"
   ]
  }
 ],
 "metadata": {
  "kernelspec": {
   "display_name": "Python 3",
   "language": "python",
   "name": "python3"
  },
  "language_info": {
   "codemirror_mode": {
    "name": "ipython",
    "version": 3
   },
   "file_extension": ".py",
   "mimetype": "text/x-python",
   "name": "python",
   "nbconvert_exporter": "python",
   "pygments_lexer": "ipython3",
   "version": "3.6.1"
  }
 },
 "nbformat": 4,
 "nbformat_minor": 2
}
